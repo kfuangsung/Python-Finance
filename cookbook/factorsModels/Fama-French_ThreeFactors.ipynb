{
 "cells": [
  {
   "cell_type": "markdown",
   "id": "560f1e01",
   "metadata": {},
   "source": [
    "## Fama-French (Three factors)\n",
    "$E(r_i)-r_f = \\alpha + \\beta_{mkt}MKT + \\beta_{smb}SMB + \\beta_{hml}HML$"
   ]
  },
  {
   "cell_type": "code",
   "execution_count": 1,
   "id": "a85ce3c2",
   "metadata": {},
   "outputs": [],
   "source": [
    "import yfinance as yf \n",
    "import pandas_datareader.data as web \n",
    "import matplotlib.pyplot as plt \n",
    "import statsmodels.formula.api as smf\n",
    "from pandas_datareader.famafrench import get_available_datasets\n",
    "\n",
    "plt.style.use('bmh')"
   ]
  },
  {
   "cell_type": "code",
   "execution_count": 2,
   "id": "8624ddc0",
   "metadata": {
    "scrolled": true
   },
   "outputs": [
    {
     "data": {
      "text/plain": [
       "['F-F_Research_Data_Factors',\n",
       " 'F-F_Research_Data_Factors_weekly',\n",
       " 'F-F_Research_Data_Factors_daily',\n",
       " 'F-F_Research_Data_5_Factors_2x3',\n",
       " 'F-F_Research_Data_5_Factors_2x3_daily']"
      ]
     },
     "execution_count": 2,
     "metadata": {},
     "output_type": "execute_result"
    }
   ],
   "source": [
    "get_available_datasets()[:5]"
   ]
  },
  {
   "cell_type": "code",
   "execution_count": 3,
   "id": "af914376",
   "metadata": {},
   "outputs": [
    {
     "data": {
      "text/plain": [
       "Date\n",
       "2012-06-30    0.050676\n",
       "2012-07-31   -0.301929\n",
       "2012-08-31   -0.168125\n",
       "2012-09-30    0.199336\n",
       "2012-10-31   -0.025392\n",
       "                ...   \n",
       "2021-09-30   -0.105409\n",
       "2021-10-31   -0.046613\n",
       "2021-11-30    0.002751\n",
       "2021-12-31    0.036646\n",
       "2022-01-31   -0.068649\n",
       "Freq: M, Name: Close, Length: 116, dtype: float64"
      ]
     },
     "execution_count": 3,
     "metadata": {},
     "output_type": "execute_result"
    }
   ],
   "source": [
    "data = yf.download('FB', period='10y', interval='1d', auto_adjust=True, progress=False)\n",
    "data = data.Close.resample('M').last().iloc[:-1] # last row is not full month\n",
    "data = data.pct_change(1)\n",
    "data.dropna(inplace=True)\n",
    "# data.index = data.index.strftime('%Y-%m')\n",
    "data "
   ]
  },
  {
   "cell_type": "code",
   "execution_count": 4,
   "id": "7d988b2b",
   "metadata": {},
   "outputs": [
    {
     "data": {
      "text/html": [
       "<div>\n",
       "<style scoped>\n",
       "    .dataframe tbody tr th:only-of-type {\n",
       "        vertical-align: middle;\n",
       "    }\n",
       "\n",
       "    .dataframe tbody tr th {\n",
       "        vertical-align: top;\n",
       "    }\n",
       "\n",
       "    .dataframe thead th {\n",
       "        text-align: right;\n",
       "    }\n",
       "</style>\n",
       "<table border=\"1\" class=\"dataframe\">\n",
       "  <thead>\n",
       "    <tr style=\"text-align: right;\">\n",
       "      <th></th>\n",
       "      <th>Mkt-RF</th>\n",
       "      <th>SMB</th>\n",
       "      <th>HML</th>\n",
       "      <th>RF</th>\n",
       "    </tr>\n",
       "    <tr>\n",
       "      <th>Date</th>\n",
       "      <th></th>\n",
       "      <th></th>\n",
       "      <th></th>\n",
       "      <th></th>\n",
       "    </tr>\n",
       "  </thead>\n",
       "  <tbody>\n",
       "    <tr>\n",
       "      <th>2012-06</th>\n",
       "      <td>0.0389</td>\n",
       "      <td>0.0064</td>\n",
       "      <td>0.0059</td>\n",
       "      <td>0.0000</td>\n",
       "    </tr>\n",
       "    <tr>\n",
       "      <th>2012-07</th>\n",
       "      <td>0.0079</td>\n",
       "      <td>-0.0272</td>\n",
       "      <td>-0.0012</td>\n",
       "      <td>0.0000</td>\n",
       "    </tr>\n",
       "    <tr>\n",
       "      <th>2012-08</th>\n",
       "      <td>0.0255</td>\n",
       "      <td>0.0048</td>\n",
       "      <td>0.0130</td>\n",
       "      <td>0.0001</td>\n",
       "    </tr>\n",
       "    <tr>\n",
       "      <th>2012-09</th>\n",
       "      <td>0.0273</td>\n",
       "      <td>0.0054</td>\n",
       "      <td>0.0158</td>\n",
       "      <td>0.0001</td>\n",
       "    </tr>\n",
       "    <tr>\n",
       "      <th>2012-10</th>\n",
       "      <td>-0.0176</td>\n",
       "      <td>-0.0117</td>\n",
       "      <td>0.0356</td>\n",
       "      <td>0.0001</td>\n",
       "    </tr>\n",
       "    <tr>\n",
       "      <th>...</th>\n",
       "      <td>...</td>\n",
       "      <td>...</td>\n",
       "      <td>...</td>\n",
       "      <td>...</td>\n",
       "    </tr>\n",
       "    <tr>\n",
       "      <th>2021-08</th>\n",
       "      <td>0.0290</td>\n",
       "      <td>-0.0048</td>\n",
       "      <td>-0.0013</td>\n",
       "      <td>0.0000</td>\n",
       "    </tr>\n",
       "    <tr>\n",
       "      <th>2021-09</th>\n",
       "      <td>-0.0437</td>\n",
       "      <td>0.0080</td>\n",
       "      <td>0.0509</td>\n",
       "      <td>0.0000</td>\n",
       "    </tr>\n",
       "    <tr>\n",
       "      <th>2021-10</th>\n",
       "      <td>0.0665</td>\n",
       "      <td>-0.0228</td>\n",
       "      <td>-0.0044</td>\n",
       "      <td>0.0000</td>\n",
       "    </tr>\n",
       "    <tr>\n",
       "      <th>2021-11</th>\n",
       "      <td>-0.0155</td>\n",
       "      <td>-0.0135</td>\n",
       "      <td>-0.0053</td>\n",
       "      <td>0.0000</td>\n",
       "    </tr>\n",
       "    <tr>\n",
       "      <th>2021-12</th>\n",
       "      <td>0.0310</td>\n",
       "      <td>-0.0158</td>\n",
       "      <td>0.0322</td>\n",
       "      <td>0.0001</td>\n",
       "    </tr>\n",
       "  </tbody>\n",
       "</table>\n",
       "<p>115 rows × 4 columns</p>\n",
       "</div>"
      ],
      "text/plain": [
       "         Mkt-RF     SMB     HML      RF\n",
       "Date                                   \n",
       "2012-06  0.0389  0.0064  0.0059  0.0000\n",
       "2012-07  0.0079 -0.0272 -0.0012  0.0000\n",
       "2012-08  0.0255  0.0048  0.0130  0.0001\n",
       "2012-09  0.0273  0.0054  0.0158  0.0001\n",
       "2012-10 -0.0176 -0.0117  0.0356  0.0001\n",
       "...         ...     ...     ...     ...\n",
       "2021-08  0.0290 -0.0048 -0.0013  0.0000\n",
       "2021-09 -0.0437  0.0080  0.0509  0.0000\n",
       "2021-10  0.0665 -0.0228 -0.0044  0.0000\n",
       "2021-11 -0.0155 -0.0135 -0.0053  0.0000\n",
       "2021-12  0.0310 -0.0158  0.0322  0.0001\n",
       "\n",
       "[115 rows x 4 columns]"
      ]
     },
     "execution_count": 4,
     "metadata": {},
     "output_type": "execute_result"
    }
   ],
   "source": [
    "ff_factors = web.DataReader('F-F_Research_Data_Factors', 'famafrench',\n",
    "                            start=data.index[0], end=data.index[-1])[0]\n",
    "ff_factors = ff_factors.div(100)\n",
    "ff_factors"
   ]
  },
  {
   "cell_type": "code",
   "execution_count": 5,
   "id": "3f80321b",
   "metadata": {},
   "outputs": [
    {
     "data": {
      "text/plain": [
       "Date\n",
       "2021-08-31    0.064777\n",
       "2021-09-30   -0.105409\n",
       "2021-10-31   -0.046613\n",
       "2021-11-30    0.002751\n",
       "2021-12-31    0.036646\n",
       "Freq: M, Name: Close, dtype: float64"
      ]
     },
     "execution_count": 5,
     "metadata": {},
     "output_type": "execute_result"
    }
   ],
   "source": [
    "# drop last row to match fama-french time period\n",
    "data = data.iloc[:-1]\n",
    "data.tail()"
   ]
  },
  {
   "cell_type": "code",
   "execution_count": 6,
   "id": "a6f561c7",
   "metadata": {},
   "outputs": [
    {
     "data": {
      "image/png": "[encoded data removed]",
      "text/plain": [
       "<Figure size 864x360 with 1 Axes>"
      ]
     },
     "metadata": {
      "needs_background": "light"
     },
     "output_type": "display_data"
    }
   ],
   "source": [
    "data.plot(figsize=(12,5), title=\"FB\")\n",
    "\n",
    "plt.tight_layout()\n",
    "plt.show()"
   ]
  },
  {
   "cell_type": "code",
   "execution_count": 7,
   "id": "2beaf808",
   "metadata": {},
   "outputs": [
    {
     "data": {
      "text/html": [
       "<div>\n",
       "<style scoped>\n",
       "    .dataframe tbody tr th:only-of-type {\n",
       "        vertical-align: middle;\n",
       "    }\n",
       "\n",
       "    .dataframe tbody tr th {\n",
       "        vertical-align: top;\n",
       "    }\n",
       "\n",
       "    .dataframe thead th {\n",
       "        text-align: right;\n",
       "    }\n",
       "</style>\n",
       "<table border=\"1\" class=\"dataframe\">\n",
       "  <thead>\n",
       "    <tr style=\"text-align: right;\">\n",
       "      <th></th>\n",
       "      <th>MKT</th>\n",
       "      <th>SMB</th>\n",
       "      <th>HML</th>\n",
       "      <th>RF</th>\n",
       "      <th>excess_ret</th>\n",
       "    </tr>\n",
       "    <tr>\n",
       "      <th>Date</th>\n",
       "      <th></th>\n",
       "      <th></th>\n",
       "      <th></th>\n",
       "      <th></th>\n",
       "      <th></th>\n",
       "    </tr>\n",
       "  </thead>\n",
       "  <tbody>\n",
       "    <tr>\n",
       "      <th>2012-06</th>\n",
       "      <td>0.0389</td>\n",
       "      <td>0.0064</td>\n",
       "      <td>0.0059</td>\n",
       "      <td>0.0000</td>\n",
       "      <td>0.050676</td>\n",
       "    </tr>\n",
       "    <tr>\n",
       "      <th>2012-07</th>\n",
       "      <td>0.0079</td>\n",
       "      <td>-0.0272</td>\n",
       "      <td>-0.0012</td>\n",
       "      <td>0.0000</td>\n",
       "      <td>-0.301929</td>\n",
       "    </tr>\n",
       "    <tr>\n",
       "      <th>2012-08</th>\n",
       "      <td>0.0255</td>\n",
       "      <td>0.0048</td>\n",
       "      <td>0.0130</td>\n",
       "      <td>0.0001</td>\n",
       "      <td>-0.168225</td>\n",
       "    </tr>\n",
       "    <tr>\n",
       "      <th>2012-09</th>\n",
       "      <td>0.0273</td>\n",
       "      <td>0.0054</td>\n",
       "      <td>0.0158</td>\n",
       "      <td>0.0001</td>\n",
       "      <td>0.199236</td>\n",
       "    </tr>\n",
       "    <tr>\n",
       "      <th>2012-10</th>\n",
       "      <td>-0.0176</td>\n",
       "      <td>-0.0117</td>\n",
       "      <td>0.0356</td>\n",
       "      <td>0.0001</td>\n",
       "      <td>-0.025492</td>\n",
       "    </tr>\n",
       "    <tr>\n",
       "      <th>...</th>\n",
       "      <td>...</td>\n",
       "      <td>...</td>\n",
       "      <td>...</td>\n",
       "      <td>...</td>\n",
       "      <td>...</td>\n",
       "    </tr>\n",
       "    <tr>\n",
       "      <th>2021-08</th>\n",
       "      <td>0.0290</td>\n",
       "      <td>-0.0048</td>\n",
       "      <td>-0.0013</td>\n",
       "      <td>0.0000</td>\n",
       "      <td>0.064777</td>\n",
       "    </tr>\n",
       "    <tr>\n",
       "      <th>2021-09</th>\n",
       "      <td>-0.0437</td>\n",
       "      <td>0.0080</td>\n",
       "      <td>0.0509</td>\n",
       "      <td>0.0000</td>\n",
       "      <td>-0.105409</td>\n",
       "    </tr>\n",
       "    <tr>\n",
       "      <th>2021-10</th>\n",
       "      <td>0.0665</td>\n",
       "      <td>-0.0228</td>\n",
       "      <td>-0.0044</td>\n",
       "      <td>0.0000</td>\n",
       "      <td>-0.046613</td>\n",
       "    </tr>\n",
       "    <tr>\n",
       "      <th>2021-11</th>\n",
       "      <td>-0.0155</td>\n",
       "      <td>-0.0135</td>\n",
       "      <td>-0.0053</td>\n",
       "      <td>0.0000</td>\n",
       "      <td>0.002751</td>\n",
       "    </tr>\n",
       "    <tr>\n",
       "      <th>2021-12</th>\n",
       "      <td>0.0310</td>\n",
       "      <td>-0.0158</td>\n",
       "      <td>0.0322</td>\n",
       "      <td>0.0001</td>\n",
       "      <td>0.036546</td>\n",
       "    </tr>\n",
       "  </tbody>\n",
       "</table>\n",
       "<p>115 rows × 5 columns</p>\n",
       "</div>"
      ],
      "text/plain": [
       "            MKT     SMB     HML      RF  excess_ret\n",
       "Date                                               \n",
       "2012-06  0.0389  0.0064  0.0059  0.0000    0.050676\n",
       "2012-07  0.0079 -0.0272 -0.0012  0.0000   -0.301929\n",
       "2012-08  0.0255  0.0048  0.0130  0.0001   -0.168225\n",
       "2012-09  0.0273  0.0054  0.0158  0.0001    0.199236\n",
       "2012-10 -0.0176 -0.0117  0.0356  0.0001   -0.025492\n",
       "...         ...     ...     ...     ...         ...\n",
       "2021-08  0.0290 -0.0048 -0.0013  0.0000    0.064777\n",
       "2021-09 -0.0437  0.0080  0.0509  0.0000   -0.105409\n",
       "2021-10  0.0665 -0.0228 -0.0044  0.0000   -0.046613\n",
       "2021-11 -0.0155 -0.0135 -0.0053  0.0000    0.002751\n",
       "2021-12  0.0310 -0.0158  0.0322  0.0001    0.036546\n",
       "\n",
       "[115 rows x 5 columns]"
      ]
     },
     "execution_count": 7,
     "metadata": {},
     "output_type": "execute_result"
    }
   ],
   "source": [
    "ff_factors['excess_ret'] = data.values - ff_factors.RF.values\n",
    "ff_factors.rename(columns={'Mkt-RF':'MKT'}, inplace=True)\n",
    "ff_factors"
   ]
  },
  {
   "cell_type": "code",
   "execution_count": 8,
   "id": "4d9d5bd6",
   "metadata": {
    "scrolled": false
   },
   "outputs": [
    {
     "name": "stdout",
     "output_type": "stream",
     "text": [
      "                            OLS Regression Results                            \n",
      "==============================================================================\n",
      "Dep. Variable:             excess_ret   R-squared:                       0.196\n",
      "Model:                            OLS   Adj. R-squared:                  0.175\n",
      "Method:                 Least Squares   F-statistic:                     9.046\n",
      "Date:                Wed, 23 Feb 2022   Prob (F-statistic):           2.08e-05\n",
      "Time:                        13:26:24   Log-Likelihood:                 113.82\n",
      "No. Observations:                 115   AIC:                            -219.6\n",
      "Df Residuals:                     111   BIC:                            -208.7\n",
      "Df Model:                           3                                         \n",
      "Covariance Type:            nonrobust                                         \n",
      "==============================================================================\n",
      "                 coef    std err          t      P>|t|      [0.025      0.975]\n",
      "------------------------------------------------------------------------------\n",
      "Intercept      0.0096      0.009      1.052      0.295      -0.008       0.028\n",
      "MKT            1.1416      0.229      4.975      0.000       0.687       1.596\n",
      "SMB           -0.0605      0.362     -0.167      0.868      -0.778       0.657\n",
      "HML           -0.4467      0.282     -1.582      0.116      -1.006       0.113\n",
      "==============================================================================\n",
      "Omnibus:                       28.438   Durbin-Watson:                   1.856\n",
      "Prob(Omnibus):                  0.000   Jarque-Bera (JB):              109.620\n",
      "Skew:                           0.727   Prob(JB):                     1.57e-24\n",
      "Kurtosis:                       7.557   Cond. No.                         43.8\n",
      "==============================================================================\n",
      "\n",
      "Warnings:\n",
      "[1] Standard Errors assume that the covariance matrix of the errors is correctly specified.\n"
     ]
    }
   ],
   "source": [
    "ff_model = smf.ols(formula=\"excess_ret ~ MKT + SMB + HML\", data=ff_factors).fit()\n",
    "print(ff_model.summary())"
   ]
  }
 ],
 "metadata": {
  "kernelspec": {
   "display_name": "Python 3.8.8 64-bit ('DL': conda)",
   "language": "python",
   "name": "python388jvsc74a57bd05f58e7dbcddfdb99f90b0447783d5390db8cd74aa541842f8b458cd6f0565a39"
  },
  "language_info": {
   "codemirror_mode": {
    "name": "ipython",
    "version": 3
   },
   "file_extension": ".py",
   "mimetype": "text/x-python",
   "name": "python",
   "nbconvert_exporter": "python",
   "pygments_lexer": "ipython3",
   "version": "3.8.8"
  }
 },
 "nbformat": 4,
 "nbformat_minor": 5
}
