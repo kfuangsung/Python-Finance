{
 "cells": [
  {
   "cell_type": "code",
   "execution_count": 1,
   "id": "7d900a4d",
   "metadata": {},
   "outputs": [],
   "source": [
    "import os \n",
    "\n",
    "import yfinance as yf \n",
    "import backtrader as bt \n",
    "from datetime import datetime"
   ]
  },
  {
   "cell_type": "code",
   "execution_count": 2,
   "id": "0b343391",
   "metadata": {},
   "outputs": [
    {
     "name": "stdout",
     "output_type": "stream",
     "text": [
      "[*********************100%***********************]  1 of 1 completed\n"
     ]
    }
   ],
   "source": [
    "if not os.path.exists('yfdata'):\n",
    "    os.mkdir('yfdata')\n",
    "\n",
    "ticker = 'AAPL'\n",
    "data = yf.download(ticker, period='1y', interval='1d')\n",
    "data_path = os.path.join('yfdata', ticker+'.csv')\n",
    "data.to_csv(data_path)"
   ]
  },
  {
   "cell_type": "code",
   "execution_count": 3,
   "id": "893aa364",
   "metadata": {},
   "outputs": [],
   "source": [
    "# SMA crossover\n",
    "# price > SMA --> buy\n",
    "# price < SMA --> sell\n",
    "# NO short selling\n",
    "# holding only 1-share\n",
    "\n",
    "class SmaStrategy(bt.Strategy):\n",
    "    params = (('ma_period', 20), )\n",
    "    \n",
    "    def __init__(self):\n",
    "        self.data_close = self.datas[0].close\n",
    "        self.order = None \n",
    "        self.price = None \n",
    "        self.comm = None\n",
    "        self.sma = bt.ind.SMA(self.datas[0], period=self.params.ma_period)\n",
    "        \n",
    "    def log(self, txt):\n",
    "        dt = self.datas[0].datetime.date(0).isoformat()\n",
    "        print(f\"{dt} | {txt}\")\n",
    "        \n",
    "    def notify_order(self, order):\n",
    "        self.order = None\n",
    "        \n",
    "    def next(self):\n",
    "        if self.order:\n",
    "            return\n",
    "        \n",
    "        if not self.position:\n",
    "            if self.data_close[0] > self.sma[0]:\n",
    "                self.order = self.buy()\n",
    "                \n",
    "        else:\n",
    "            if self.data_close[0] < self.sma[0]:\n",
    "                self.order = self.sell()\n",
    "                \n",
    "    def stop(self):\n",
    "        self.log(f\"(ma_period = {self.params.ma_period:.2f}) --- Terminal Value: {self.broker.getvalue():.2f}\")"
   ]
  },
  {
   "cell_type": "code",
   "execution_count": 4,
   "id": "4d0a00f9",
   "metadata": {},
   "outputs": [],
   "source": [
    "data = bt.feeds.YahooFinanceCSVData(dataname=data_path)"
   ]
  },
  {
   "cell_type": "code",
   "execution_count": 5,
   "id": "24bbdc73",
   "metadata": {
    "scrolled": false
   },
   "outputs": [
    {
     "name": "stdout",
     "output_type": "stream",
     "text": [
      "2022-02-18 | (ma_period = 12.00) --- Terminal Value: 1020.482022-02-18 | (ma_period = 11.00) --- Terminal Value: 1022.80\n",
      "\n",
      "2022-02-18 | (ma_period = 13.00) --- Terminal Value: 1027.38\n",
      "2022-02-18 | (ma_period = 10.00) --- Terminal Value: 1019.57\n",
      "2022-02-18 | (ma_period = 14.00) --- Terminal Value: 1027.94\n",
      "2022-02-18 | (ma_period = 15.00) --- Terminal Value: 1030.53\n",
      "2022-02-18 | (ma_period = 17.00) --- Terminal Value: 1035.47\n",
      "2022-02-18 | (ma_period = 18.00) --- Terminal Value: 1042.46\n",
      "2022-02-18 | (ma_period = 16.00) --- Terminal Value: 1032.86\n",
      "2022-02-18 | (ma_period = 19.00) --- Terminal Value: 1041.45\n",
      "2022-02-18 | (ma_period = 20.00) --- Terminal Value: 1044.10\n",
      "2022-02-18 | (ma_period = 21.00) --- Terminal Value: 1038.48\n",
      "2022-02-18 | (ma_period = 22.00) --- Terminal Value: 1041.99\n",
      "2022-02-18 | (ma_period = 23.00) --- Terminal Value: 1042.43\n",
      "2022-02-18 | (ma_period = 24.00) --- Terminal Value: 1042.09\n",
      "2022-02-18 | (ma_period = 26.00) --- Terminal Value: 1042.752022-02-18 | (ma_period = 25.00) --- Terminal Value: 1044.03\n",
      "\n",
      "2022-02-18 | (ma_period = 27.00) --- Terminal Value: 1040.882022-02-18 | (ma_period = 28.00) --- Terminal Value: 1037.31\n",
      "\n",
      "2022-02-18 | (ma_period = 29.00) --- Terminal Value: 1031.43\n",
      "2022-02-18 | (ma_period = 30.00) --- Terminal Value: 1024.75\n"
     ]
    },
    {
     "data": {
      "text/plain": [
       "[[<backtrader.cerebro.OptReturn at 0x7f63aea50610>],\n",
       " [<backtrader.cerebro.OptReturn at 0x7f63aea508e0>],\n",
       " [<backtrader.cerebro.OptReturn at 0x7f63aea50370>],\n",
       " [<backtrader.cerebro.OptReturn at 0x7f63aea509d0>],\n",
       " [<backtrader.cerebro.OptReturn at 0x7f63aea50cd0>],\n",
       " [<backtrader.cerebro.OptReturn at 0x7f63aea507f0>],\n",
       " [<backtrader.cerebro.OptReturn at 0x7f63aea50880>],\n",
       " [<backtrader.cerebro.OptReturn at 0x7f63aea50f10>],\n",
       " [<backtrader.cerebro.OptReturn at 0x7f63aea50f70>],\n",
       " [<backtrader.cerebro.OptReturn at 0x7f63aea571f0>],\n",
       " [<backtrader.cerebro.OptReturn at 0x7f63aea573d0>],\n",
       " [<backtrader.cerebro.OptReturn at 0x7f63aea574f0>],\n",
       " [<backtrader.cerebro.OptReturn at 0x7f63aea48d90>],\n",
       " [<backtrader.cerebro.OptReturn at 0x7f63aea57640>],\n",
       " [<backtrader.cerebro.OptReturn at 0x7f63aea57130>],\n",
       " [<backtrader.cerebro.OptReturn at 0x7f63aea57400>],\n",
       " [<backtrader.cerebro.OptReturn at 0x7f63aea48dc0>],\n",
       " [<backtrader.cerebro.OptReturn at 0x7f63aea48d60>],\n",
       " [<backtrader.cerebro.OptReturn at 0x7f63aea576a0>],\n",
       " [<backtrader.cerebro.OptReturn at 0x7f63aea57bb0>],\n",
       " [<backtrader.cerebro.OptReturn at 0x7f63aea57eb0>]]"
      ]
     },
     "execution_count": 5,
     "metadata": {},
     "output_type": "execute_result"
    }
   ],
   "source": [
    "cerebro = bt.Cerebro(stdstats=False)\n",
    "cerebro.adddata(data)\n",
    "cerebro.optstrategy(SmaStrategy, ma_period=range(10, 31))\n",
    "cerebro.broker.setcash(1000)\n",
    "cerebro.run(maxcpus=4)"
   ]
  }
 ],
 "metadata": {
  "kernelspec": {
   "display_name": "Python 3.8.8 64-bit ('DL': conda)",
   "language": "python",
   "name": "python388jvsc74a57bd05f58e7dbcddfdb99f90b0447783d5390db8cd74aa541842f8b458cd6f0565a39"
  },
  "language_info": {
   "codemirror_mode": {
    "name": "ipython",
    "version": 3
   },
   "file_extension": ".py",
   "mimetype": "text/x-python",
   "name": "python",
   "nbconvert_exporter": "python",
   "pygments_lexer": "ipython3",
   "version": "3.8.8"
  }
 },
 "nbformat": 4,
 "nbformat_minor": 5
}
