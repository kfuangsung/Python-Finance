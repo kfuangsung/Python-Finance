{
 "cells": [
  {
   "cell_type": "markdown",
   "id": "e6393abd",
   "metadata": {},
   "source": [
    "# European Options"
   ]
  },
  {
   "cell_type": "code",
   "execution_count": 1,
   "id": "0f9f540f",
   "metadata": {},
   "outputs": [],
   "source": [
    "import yfinance as yf \n",
    "import numpy as np \n",
    "from scipy.stats import norm"
   ]
  },
  {
   "cell_type": "code",
   "execution_count": 2,
   "id": "ea2d2979",
   "metadata": {},
   "outputs": [
    {
     "data": {
      "text/html": [
       "<div>\n",
       "<style scoped>\n",
       "    .dataframe tbody tr th:only-of-type {\n",
       "        vertical-align: middle;\n",
       "    }\n",
       "\n",
       "    .dataframe tbody tr th {\n",
       "        vertical-align: top;\n",
       "    }\n",
       "\n",
       "    .dataframe thead th {\n",
       "        text-align: right;\n",
       "    }\n",
       "</style>\n",
       "<table border=\"1\" class=\"dataframe\">\n",
       "  <thead>\n",
       "    <tr style=\"text-align: right;\">\n",
       "      <th></th>\n",
       "      <th>Open</th>\n",
       "      <th>High</th>\n",
       "      <th>Low</th>\n",
       "      <th>Close</th>\n",
       "      <th>Volume</th>\n",
       "      <th>returns</th>\n",
       "    </tr>\n",
       "    <tr>\n",
       "      <th>Date</th>\n",
       "      <th></th>\n",
       "      <th></th>\n",
       "      <th></th>\n",
       "      <th></th>\n",
       "      <th></th>\n",
       "      <th></th>\n",
       "    </tr>\n",
       "  </thead>\n",
       "  <tbody>\n",
       "    <tr>\n",
       "      <th>2022-02-16</th>\n",
       "      <td>262.589996</td>\n",
       "      <td>265.820007</td>\n",
       "      <td>255.520004</td>\n",
       "      <td>265.109985</td>\n",
       "      <td>73267600</td>\n",
       "      <td>0.000604</td>\n",
       "    </tr>\n",
       "    <tr>\n",
       "      <th>2022-02-17</th>\n",
       "      <td>256.299988</td>\n",
       "      <td>257.850006</td>\n",
       "      <td>241.649994</td>\n",
       "      <td>245.070007</td>\n",
       "      <td>81059500</td>\n",
       "      <td>-0.078601</td>\n",
       "    </tr>\n",
       "    <tr>\n",
       "      <th>2022-02-18</th>\n",
       "      <td>246.679993</td>\n",
       "      <td>249.860001</td>\n",
       "      <td>231.000000</td>\n",
       "      <td>236.419998</td>\n",
       "      <td>75966400</td>\n",
       "      <td>-0.035934</td>\n",
       "    </tr>\n",
       "    <tr>\n",
       "      <th>2022-02-22</th>\n",
       "      <td>230.350006</td>\n",
       "      <td>240.639999</td>\n",
       "      <td>230.000000</td>\n",
       "      <td>233.899994</td>\n",
       "      <td>63342200</td>\n",
       "      <td>-0.010716</td>\n",
       "    </tr>\n",
       "    <tr>\n",
       "      <th>2022-02-23</th>\n",
       "      <td>238.020004</td>\n",
       "      <td>241.550003</td>\n",
       "      <td>223.009995</td>\n",
       "      <td>223.869995</td>\n",
       "      <td>56466000</td>\n",
       "      <td>-0.043828</td>\n",
       "    </tr>\n",
       "  </tbody>\n",
       "</table>\n",
       "</div>"
      ],
      "text/plain": [
       "                  Open        High         Low       Close    Volume   returns\n",
       "Date                                                                          \n",
       "2022-02-16  262.589996  265.820007  255.520004  265.109985  73267600  0.000604\n",
       "2022-02-17  256.299988  257.850006  241.649994  245.070007  81059500 -0.078601\n",
       "2022-02-18  246.679993  249.860001  231.000000  236.419998  75966400 -0.035934\n",
       "2022-02-22  230.350006  240.639999  230.000000  233.899994  63342200 -0.010716\n",
       "2022-02-23  238.020004  241.550003  223.009995  223.869995  56466000 -0.043828"
      ]
     },
     "execution_count": 2,
     "metadata": {},
     "output_type": "execute_result"
    }
   ],
   "source": [
    "ticker = 'NVDA'\n",
    "data = yf.download(ticker, period='10y', interval='1d', auto_adjust=True, progress=False)\n",
    "data['returns'] = np.log(data.Close / data.Close.shift(1))\n",
    "data.dropna(inplace=True)\n",
    "data.tail()"
   ]
  },
  {
   "cell_type": "code",
   "execution_count": 3,
   "id": "abb980f2",
   "metadata": {},
   "outputs": [],
   "source": [
    "S_0 = data.Close[-1]\n",
    "sigma = data.returns.std() * np.sqrt(252)\n",
    "num_sim = 1_000_000\n",
    "T = 1 # 1-year\n",
    "N = 252 # 252 trading days\n",
    "K = 220 # strike price\n",
    "rf = 0.01 # risk-free rate"
   ]
  },
  {
   "cell_type": "markdown",
   "id": "3f355b9a",
   "metadata": {},
   "source": [
    "## Black-Scholes formula\n",
    "\n",
    "$$ C(S_t,T) = N(d_1)S_t - N(d_2) K e^{-r(T-t)} $$ </p>\n",
    "$$ P(S_t,T) = N(-d_2)K e^{-r(T-t)} - N(-d_1)S_t $$ </p>\n",
    "$$ d_1 = \\frac{1}{\\sigma\\sqrt{T-t}} [ln(\\frac{S_t}{K}) + (r + \\frac{\\sigma^2}{2})(T-t)] $$\n",
    "$$ d_2 = d_1 - \\sigma \\sqrt{T-t} $$"
   ]
  },
  {
   "cell_type": "code",
   "execution_count": 4,
   "id": "3500e741",
   "metadata": {},
   "outputs": [],
   "source": [
    "def black_scholes_european(S_0, K, r, sigma, T, option_type='call'):\n",
    "    d1 = (np.log(S_0/K) + (r + (sigma**2)/2) * T) / (sigma * np.sqrt(T))\n",
    "    d2 = d1 - sigma * np.sqrt(T)\n",
    "    \n",
    "    if option_type.lower() == 'call':\n",
    "        N_d1 = norm.cdf(d1, loc=0, scale=1)\n",
    "        N_d2 = norm.cdf(d2, loc=0, scale=1)\n",
    "        val = (N_d1*S_0) - (N_d2*K*np.exp(-r*T))\n",
    "    elif option_type.lower() == 'put':\n",
    "        N_neg_d1 = norm.cdf(-d1, loc=0, scale=1)\n",
    "        N_neg_d2 = norm.cdf(-d2, loc=0, scale=1)\n",
    "        val = N_neg_d2*K*np.exp(-r*T) - N_neg_d1*S_0\n",
    "    else:\n",
    "        raise ValueError('Wrong option type.')\n",
    "        \n",
    "    return val "
   ]
  },
  {
   "cell_type": "code",
   "execution_count": 5,
   "id": "4f4ac592",
   "metadata": {},
   "outputs": [],
   "source": [
    "call_bs = black_scholes_european(S_0, K, rf, sigma, T, 'call')\n",
    "put_bs = black_scholes_european(S_0, K, rf, sigma, T, 'put')"
   ]
  },
  {
   "cell_type": "code",
   "execution_count": 6,
   "id": "e8bc0295",
   "metadata": {},
   "outputs": [
    {
     "name": "stdout",
     "output_type": "stream",
     "text": [
      "Black-Scholes Formula\n",
      "------------------------------\n",
      "Strike price: 220\n",
      "Call premium: 39.07\n",
      "Put premium: 33.01\n"
     ]
    }
   ],
   "source": [
    "print(\"Black-Scholes Formula\")\n",
    "print(\"-\"*30)\n",
    "print(f'Strike price: {K}')\n",
    "print(f'Call premium: {call_bs:.2f}')\n",
    "print(f'Put premium: {put_bs:.2f}')"
   ]
  },
  {
   "cell_type": "markdown",
   "id": "6b7baf6f",
   "metadata": {},
   "source": [
    "## Monte Carlo Simulation"
   ]
  },
  {
   "cell_type": "code",
   "execution_count": 7,
   "id": "24e13676",
   "metadata": {},
   "outputs": [],
   "source": [
    "def monte_carlo_european(S_0, K, rf, sigma, num_sim, T, N, option_type='call'):\n",
    "    rv = np.random.normal(loc=0, scale=1, size=num_sim)\n",
    "    S_T = S_0 * np.exp((rf - 0.5*(sigma**2)) * T + sigma * np.sqrt(T) * rv) \n",
    "    \n",
    "    if option_type.lower() == 'call':\n",
    "        payoff = np.maximum(0, S_T - K)\n",
    "    elif option_type.lower() == 'put':\n",
    "        payoff = np.maximum(0, K - S_T)\n",
    "    else:\n",
    "        raise ValueError('Wrong option type.')\n",
    "    \n",
    "    discount_factor = np.exp(-rf * T)\n",
    "    premium = np.mean(payoff) * discount_factor\n",
    "    \n",
    "    return premium"
   ]
  },
  {
   "cell_type": "code",
   "execution_count": 8,
   "id": "d6b339f6",
   "metadata": {},
   "outputs": [],
   "source": [
    "call_mc = monte_carlo_european(S_0, K, rf, sigma, num_sim, T, N, 'call')\n",
    "put_mc = monte_carlo_european(S_0, K, rf, sigma, num_sim, T, N, 'put')"
   ]
  },
  {
   "cell_type": "code",
   "execution_count": 9,
   "id": "34feca0c",
   "metadata": {},
   "outputs": [
    {
     "name": "stdout",
     "output_type": "stream",
     "text": [
      "Monte Carlo Simulations\n",
      "------------------------------\n",
      "Strike price: 220\n",
      "Call premium: 39.21\n",
      "Put premium: 32.97\n"
     ]
    }
   ],
   "source": [
    "print(\"Monte Carlo Simulations\")\n",
    "print(\"-\"*30)\n",
    "print(f'Strike price: {K}')\n",
    "print(f'Call premium: {call_mc:.2f}')\n",
    "print(f'Put premium: {put_mc:.2f}')"
   ]
  }
 ],
 "metadata": {
  "kernelspec": {
   "display_name": "Python 3.8.8 64-bit ('DL': conda)",
   "language": "python",
   "name": "python388jvsc74a57bd05f58e7dbcddfdb99f90b0447783d5390db8cd74aa541842f8b458cd6f0565a39"
  },
  "language_info": {
   "codemirror_mode": {
    "name": "ipython",
    "version": 3
   },
   "file_extension": ".py",
   "mimetype": "text/x-python",
   "name": "python",
   "nbconvert_exporter": "python",
   "pygments_lexer": "ipython3",
   "version": "3.8.8"
  }
 },
 "nbformat": 4,
 "nbformat_minor": 5
}
