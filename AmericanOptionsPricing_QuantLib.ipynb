{
 "cells": [
  {
   "cell_type": "code",
   "execution_count": 1,
   "id": "3079c652",
   "metadata": {},
   "outputs": [],
   "source": [
    "import yfinance as yf \n",
    "import numpy as np \n",
    "import QuantLib as ql"
   ]
  },
  {
   "cell_type": "code",
   "execution_count": 2,
   "id": "2c0ceb32",
   "metadata": {},
   "outputs": [
    {
     "data": {
      "text/html": [
       "<div>\n",
       "<style scoped>\n",
       "    .dataframe tbody tr th:only-of-type {\n",
       "        vertical-align: middle;\n",
       "    }\n",
       "\n",
       "    .dataframe tbody tr th {\n",
       "        vertical-align: top;\n",
       "    }\n",
       "\n",
       "    .dataframe thead th {\n",
       "        text-align: right;\n",
       "    }\n",
       "</style>\n",
       "<table border=\"1\" class=\"dataframe\">\n",
       "  <thead>\n",
       "    <tr style=\"text-align: right;\">\n",
       "      <th></th>\n",
       "      <th>Open</th>\n",
       "      <th>High</th>\n",
       "      <th>Low</th>\n",
       "      <th>Close</th>\n",
       "      <th>Volume</th>\n",
       "      <th>returns</th>\n",
       "    </tr>\n",
       "    <tr>\n",
       "      <th>Date</th>\n",
       "      <th></th>\n",
       "      <th></th>\n",
       "      <th></th>\n",
       "      <th></th>\n",
       "      <th></th>\n",
       "      <th></th>\n",
       "    </tr>\n",
       "  </thead>\n",
       "  <tbody>\n",
       "    <tr>\n",
       "      <th>2022-02-17</th>\n",
       "      <td>60.549999</td>\n",
       "      <td>62.279999</td>\n",
       "      <td>60.410000</td>\n",
       "      <td>62.119999</td>\n",
       "      <td>21468700</td>\n",
       "      <td>0.019835</td>\n",
       "    </tr>\n",
       "    <tr>\n",
       "      <th>2022-02-18</th>\n",
       "      <td>62.119999</td>\n",
       "      <td>62.820000</td>\n",
       "      <td>61.990002</td>\n",
       "      <td>62.540001</td>\n",
       "      <td>21968400</td>\n",
       "      <td>0.006738</td>\n",
       "    </tr>\n",
       "    <tr>\n",
       "      <th>2022-02-22</th>\n",
       "      <td>62.430000</td>\n",
       "      <td>62.639999</td>\n",
       "      <td>61.720001</td>\n",
       "      <td>62.279999</td>\n",
       "      <td>21731400</td>\n",
       "      <td>-0.004166</td>\n",
       "    </tr>\n",
       "    <tr>\n",
       "      <th>2022-02-23</th>\n",
       "      <td>62.240002</td>\n",
       "      <td>62.330002</td>\n",
       "      <td>61.340000</td>\n",
       "      <td>61.590000</td>\n",
       "      <td>19248500</td>\n",
       "      <td>-0.011141</td>\n",
       "    </tr>\n",
       "    <tr>\n",
       "      <th>2022-02-24</th>\n",
       "      <td>59.970001</td>\n",
       "      <td>60.619999</td>\n",
       "      <td>59.220001</td>\n",
       "      <td>60.509998</td>\n",
       "      <td>27149054</td>\n",
       "      <td>-0.017691</td>\n",
       "    </tr>\n",
       "  </tbody>\n",
       "</table>\n",
       "</div>"
      ],
      "text/plain": [
       "                 Open       High        Low      Close    Volume   returns\n",
       "Date                                                                      \n",
       "2022-02-17  60.549999  62.279999  60.410000  62.119999  21468700  0.019835\n",
       "2022-02-18  62.119999  62.820000  61.990002  62.540001  21968400  0.006738\n",
       "2022-02-22  62.430000  62.639999  61.720001  62.279999  21731400 -0.004166\n",
       "2022-02-23  62.240002  62.330002  61.340000  61.590000  19248500 -0.011141\n",
       "2022-02-24  59.970001  60.619999  59.220001  60.509998  27149054 -0.017691"
      ]
     },
     "execution_count": 2,
     "metadata": {},
     "output_type": "execute_result"
    }
   ],
   "source": [
    "ticker = 'KO'\n",
    "data = yf.download(ticker, period='10y', interval='1d', auto_adjust=True, progress=False)\n",
    "data['returns'] = np.log(data.Close / data.Close.shift(1))\n",
    "data.dropna(inplace=True)\n",
    "data.tail()"
   ]
  },
  {
   "cell_type": "code",
   "execution_count": 3,
   "id": "8e255d7d",
   "metadata": {},
   "outputs": [],
   "source": [
    "S_0 = data.Close[-1]\n",
    "sigma = data.returns.std() * np.sqrt(252)\n",
    "N = 252 # 252 trading days\n",
    "K = 60 # strike price\n",
    "rf = 0.01 # risk-free rate\n",
    "num_sim = 100_000"
   ]
  },
  {
   "cell_type": "code",
   "execution_count": 4,
   "id": "60b665e4",
   "metadata": {},
   "outputs": [],
   "source": [
    "calendar = ql.UnitedStates()\n",
    "day_counter = ql.ActualActual()"
   ]
  },
  {
   "cell_type": "code",
   "execution_count": 5,
   "id": "cf02b1e2",
   "metadata": {},
   "outputs": [],
   "source": [
    "valuation_date = ql.Date(24, 2, 2022)\n",
    "expiry_date = ql.Date(24, 2, 2023)\n",
    "ql.Settings.instance().evaluationDate = valuation_date"
   ]
  },
  {
   "cell_type": "code",
   "execution_count": 6,
   "id": "05c7b518",
   "metadata": {},
   "outputs": [],
   "source": [
    "call_type = ql.Option.Call\n",
    "put_type = ql.Option.Put\n",
    "\n",
    "exercise = ql.AmericanExercise(valuation_date, expiry_date)\n",
    "call_payoff = ql.PlainVanillaPayoff(call_type, K)\n",
    "put_payoff = ql.PlainVanillaPayoff(put_type, K)"
   ]
  },
  {
   "cell_type": "code",
   "execution_count": 7,
   "id": "88983088",
   "metadata": {},
   "outputs": [],
   "source": [
    "u = ql.SimpleQuote(S_0)\n",
    "r = ql.SimpleQuote(rf)\n",
    "sigma = ql.SimpleQuote(sigma)"
   ]
  },
  {
   "cell_type": "code",
   "execution_count": 8,
   "id": "6e5b5b9b",
   "metadata": {},
   "outputs": [],
   "source": [
    "underlying = ql.QuoteHandle(u)\n",
    "volatility = ql.BlackConstantVol(0, ql.TARGET(), ql.QuoteHandle(sigma), day_counter)\n",
    "risk_free_rate = ql.FlatForward(0, ql.TARGET(), ql.QuoteHandle(r), day_counter)"
   ]
  },
  {
   "cell_type": "code",
   "execution_count": 9,
   "id": "22a4d107",
   "metadata": {},
   "outputs": [],
   "source": [
    "bs_process = ql.BlackScholesProcess(underlying, \n",
    "                                    ql.YieldTermStructureHandle(risk_free_rate),\n",
    "                                    ql.BlackVolTermStructureHandle(volatility))"
   ]
  },
  {
   "cell_type": "code",
   "execution_count": 10,
   "id": "ef57100e",
   "metadata": {},
   "outputs": [],
   "source": [
    "engine = ql.MCAmericanEngine(bs_process, 'PseudoRandom', timeSteps=N, polynomOrder=5, \n",
    "                             seedCalibration=42, requiredSamples=num_sim)"
   ]
  },
  {
   "cell_type": "code",
   "execution_count": 11,
   "id": "e0b6cde2",
   "metadata": {},
   "outputs": [],
   "source": [
    "call_option = ql.VanillaOption(call_payoff, exercise)\n",
    "call_option.setPricingEngine(engine)\n",
    "call_premium = call_option.NPV()\n",
    "\n",
    "put_option = ql.VanillaOption(put_payoff, exercise)\n",
    "put_option.setPricingEngine(engine)\n",
    "put_premium = put_option.NPV()"
   ]
  },
  {
   "cell_type": "code",
   "execution_count": 12,
   "id": "e6d3337e",
   "metadata": {},
   "outputs": [
    {
     "name": "stdout",
     "output_type": "stream",
     "text": [
      "Strike Price: 60\n",
      "Call premium: 4.6784\n",
      "Put premium: 3.6507\n"
     ]
    }
   ],
   "source": [
    "print(f\"Strike Price: {K}\")\n",
    "print(f\"Call premium: {call_premium:.4f}\")\n",
    "print(f\"Put premium: {put_premium:.4f}\")"
   ]
  },
  {
   "cell_type": "code",
   "execution_count": null,
   "id": "280196a2",
   "metadata": {},
   "outputs": [],
   "source": []
  }
 ],
 "metadata": {
  "kernelspec": {
   "display_name": "Python 3.8.8 64-bit ('DL': conda)",
   "language": "python",
   "name": "python388jvsc74a57bd05f58e7dbcddfdb99f90b0447783d5390db8cd74aa541842f8b458cd6f0565a39"
  },
  "language_info": {
   "codemirror_mode": {
    "name": "ipython",
    "version": 3
   },
   "file_extension": ".py",
   "mimetype": "text/x-python",
   "name": "python",
   "nbconvert_exporter": "python",
   "pygments_lexer": "ipython3",
   "version": "3.8.8"
  }
 },
 "nbformat": 4,
 "nbformat_minor": 5
}
