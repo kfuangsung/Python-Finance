{
 "cells": [
  {
   "cell_type": "markdown",
   "id": "aba7eb61",
   "metadata": {},
   "source": [
    "# Modeling callable bonds"
   ]
  },
  {
   "cell_type": "code",
   "execution_count": 1,
   "id": "e487195c",
   "metadata": {},
   "outputs": [],
   "source": [
    "import QuantLib as ql \n",
    "import pandas as pd \n",
    "import numpy as np \n",
    "import matplotlib.pyplot as plt \n",
    "import datetime as dt\n",
    "\n",
    "plt.style.use('bmh')"
   ]
  },
  {
   "cell_type": "code",
   "execution_count": 2,
   "id": "c1bfece4",
   "metadata": {},
   "outputs": [],
   "source": [
    "# set evaluation date\n",
    "\n",
    "eval_date = ql.Date(16, ql.August, 2016)\n",
    "ql.Settings.instance().evaluationDate = eval_date"
   ]
  },
  {
   "cell_type": "code",
   "execution_count": 3,
   "id": "a2e6ba70",
   "metadata": {},
   "outputs": [],
   "source": [
    "# flat yield curve\n",
    "\n",
    "day_count = ql.ActualActual(ql.ActualActual.Bond)\n",
    "rate = 0.035\n",
    "\n",
    "ts = ql.FlatForward(eval_date, \n",
    "                    rate,\n",
    "                    day_count,\n",
    "                    ql.Compounded,\n",
    "                    ql.Semiannual)\n",
    "\n",
    "ts_handle = ql.YieldTermStructureHandle(ts)"
   ]
  },
  {
   "cell_type": "code",
   "execution_count": 4,
   "id": "5111d39c",
   "metadata": {},
   "outputs": [],
   "source": [
    "# call schedules\n",
    "\n",
    "callability_schedule = ql.CallabilitySchedule()\n",
    "call_price = 100\n",
    "call_date = ql.Date(15, ql.September, 2016)\n",
    "null_calendar = ql.NullCalendar()\n",
    "\n",
    "for i in range(24):\n",
    "    callability_price = ql.BondPrice(call_price,\n",
    "                                     ql.BondPrice.Clean)\n",
    "    callability_schedule.append(ql.Callability(callability_price,\n",
    "                                               ql.Callability.Call,\n",
    "                                               call_date))\n",
    "    call_date = null_calendar.advance(call_date, 3, ql.Months)"
   ]
  },
  {
   "cell_type": "code",
   "execution_count": 5,
   "id": "56f39d4d",
   "metadata": {},
   "outputs": [],
   "source": [
    "# bond schedule\n",
    "\n",
    "issue_date = ql.Date(16, ql.September, 2014)\n",
    "maturity_date = ql.Date(15, ql.September, 2022)\n",
    "calendar = ql.UnitedStates(ql.UnitedStates.GovernmentBond)\n",
    "tenor = ql.Period(ql.Quarterly)\n",
    "accrual_convention = ql.Unadjusted\n",
    "\n",
    "schedule = ql.Schedule(issue_date,\n",
    "                       maturity_date,\n",
    "                       tenor,\n",
    "                       calendar,\n",
    "                       accrual_convention,\n",
    "                       accrual_convention,\n",
    "                       ql.DateGeneration.Backward,\n",
    "                       False)"
   ]
  },
  {
   "cell_type": "code",
   "execution_count": 6,
   "id": "b894e5ab",
   "metadata": {},
   "outputs": [],
   "source": [
    "# callable bond\n",
    "\n",
    "settlement_days = 3\n",
    "face_amount = 100\n",
    "accrual_daycount = ql.ActualActual(ql.ActualActual.Bond)\n",
    "coupon = 0.025\n",
    "\n",
    "bond = ql.CallableFixedRateBond(settlement_days,\n",
    "                                face_amount,\n",
    "                                schedule,\n",
    "                                [coupon],\n",
    "                                accrual_daycount,\n",
    "                                ql.Following,\n",
    "                                face_amount,\n",
    "                                issue_date,\n",
    "                                callability_schedule)"
   ]
  },
  {
   "cell_type": "code",
   "execution_count": 7,
   "id": "91d7d9c0",
   "metadata": {},
   "outputs": [],
   "source": [
    "# engine\n",
    "\n",
    "mean_reversion = 0.03\n",
    "sigma = 0.12\n",
    "model = ql.HullWhite(ts_handle, mean_reversion, sigma)\n",
    "engine = ql.TreeCallableFixedRateBondEngine(model, 100)\n",
    "bond.setPricingEngine(engine)"
   ]
  },
  {
   "cell_type": "code",
   "execution_count": 8,
   "id": "d433c870",
   "metadata": {},
   "outputs": [
    {
     "data": {
      "text/plain": [
       "68.82338449304362"
      ]
     },
     "execution_count": 8,
     "metadata": {},
     "output_type": "execute_result"
    }
   ],
   "source": [
    "bond.NPV()"
   ]
  },
  {
   "cell_type": "code",
   "execution_count": 9,
   "id": "a7faa631",
   "metadata": {},
   "outputs": [
    {
     "data": {
      "text/plain": [
       "68.40143847089621"
      ]
     },
     "execution_count": 9,
     "metadata": {},
     "output_type": "execute_result"
    }
   ],
   "source": [
    "bond.cleanPrice()"
   ]
  },
  {
   "cell_type": "code",
   "execution_count": 10,
   "id": "7ce78bfb",
   "metadata": {},
   "outputs": [
    {
     "data": {
      "text/plain": [
       "0.4415760869565189"
      ]
     },
     "execution_count": 10,
     "metadata": {},
     "output_type": "execute_result"
    }
   ],
   "source": [
    "bond.accruedAmount()"
   ]
  },
  {
   "cell_type": "code",
   "execution_count": 11,
   "id": "8affc5e2",
   "metadata": {},
   "outputs": [
    {
     "data": {
      "text/plain": [
       "68.84301455785273"
      ]
     },
     "execution_count": 11,
     "metadata": {},
     "output_type": "execute_result"
    }
   ],
   "source": [
    "bond.dirtyPrice()"
   ]
  },
  {
   "cell_type": "code",
   "execution_count": 12,
   "id": "f834b404",
   "metadata": {},
   "outputs": [],
   "source": [
    "cash_flows = [(cf.date(), cf.amount()) for cf in bond.cashflows()]"
   ]
  },
  {
   "cell_type": "code",
   "execution_count": 13,
   "id": "8eae8db1",
   "metadata": {},
   "outputs": [],
   "source": [
    "def convert_date(d):\n",
    "    return dt.date(d.year(), d.month(), d.dayOfMonth())"
   ]
  },
  {
   "cell_type": "code",
   "execution_count": 14,
   "id": "4e3a55be",
   "metadata": {},
   "outputs": [
    {
     "data": {
      "text/html": [
       "<div>\n",
       "<style scoped>\n",
       "    .dataframe tbody tr th:only-of-type {\n",
       "        vertical-align: middle;\n",
       "    }\n",
       "\n",
       "    .dataframe tbody tr th {\n",
       "        vertical-align: top;\n",
       "    }\n",
       "\n",
       "    .dataframe thead th {\n",
       "        text-align: right;\n",
       "    }\n",
       "</style>\n",
       "<table border=\"1\" class=\"dataframe\">\n",
       "  <thead>\n",
       "    <tr style=\"text-align: right;\">\n",
       "      <th></th>\n",
       "      <th>Cashflows</th>\n",
       "    </tr>\n",
       "    <tr>\n",
       "      <th>Date</th>\n",
       "      <th></th>\n",
       "    </tr>\n",
       "  </thead>\n",
       "  <tbody>\n",
       "    <tr>\n",
       "      <th>2014-12-15</th>\n",
       "      <td>0.618132</td>\n",
       "    </tr>\n",
       "    <tr>\n",
       "      <th>2015-03-16</th>\n",
       "      <td>0.625000</td>\n",
       "    </tr>\n",
       "    <tr>\n",
       "      <th>2015-06-15</th>\n",
       "      <td>0.625000</td>\n",
       "    </tr>\n",
       "    <tr>\n",
       "      <th>2015-09-15</th>\n",
       "      <td>0.625000</td>\n",
       "    </tr>\n",
       "    <tr>\n",
       "      <th>2015-12-15</th>\n",
       "      <td>0.625000</td>\n",
       "    </tr>\n",
       "  </tbody>\n",
       "</table>\n",
       "</div>"
      ],
      "text/plain": [
       "            Cashflows\n",
       "Date                 \n",
       "2014-12-15   0.618132\n",
       "2015-03-16   0.625000\n",
       "2015-06-15   0.625000\n",
       "2015-09-15   0.625000\n",
       "2015-12-15   0.625000"
      ]
     },
     "execution_count": 14,
     "metadata": {},
     "output_type": "execute_result"
    }
   ],
   "source": [
    "cash_flows_df = pd.DataFrame(cash_flows, columns=['Date', 'Cashflows'])\n",
    "cash_flows_df.Date =  cash_flows_df.Date.apply(convert_date)\n",
    "cash_flows_df.set_index('Date', inplace=True)\n",
    "cash_flows_df.head()"
   ]
  },
  {
   "cell_type": "code",
   "execution_count": 15,
   "id": "5666fe6e",
   "metadata": {},
   "outputs": [
    {
     "data": {
      "image/png": "[encoded data removed]",
      "text/plain": [
       "<Figure size 864x360 with 1 Axes>"
      ]
     },
     "metadata": {
      "needs_background": "light"
     },
     "output_type": "display_data"
    }
   ],
   "source": [
    "cash_flows_df.plot(kind='bar', figsize=(12,5))\n",
    "plt.tight_layout()\n",
    "plt.show()"
   ]
  },
  {
   "cell_type": "code",
   "execution_count": 16,
   "id": "cc4193f6",
   "metadata": {},
   "outputs": [],
   "source": [
    "prices = []\n",
    "\n",
    "for sigma in np.linspace(0.01, 0.5, 100):\n",
    "    model = ql.HullWhite(ts_handle, mean_reversion, sigma)\n",
    "    engine = ql.TreeCallableFixedRateBondEngine(model, 100)\n",
    "    bond.setPricingEngine(engine)\n",
    "    prices.append(bond.cleanPrice())"
   ]
  },
  {
   "cell_type": "code",
   "execution_count": 17,
   "id": "3eaf1590",
   "metadata": {},
   "outputs": [
    {
     "data": {
      "image/png": "[encoded data removed]",
      "text/plain": [
       "<Figure size 864x360 with 1 Axes>"
      ]
     },
     "metadata": {
      "needs_background": "light"
     },
     "output_type": "display_data"
    }
   ],
   "source": [
    "# volatiltiy increase --> higer chance of being call --> call has higher value --> bond price decreases\n",
    "\n",
    "fig, ax = plt.subplots(figsize=(12,5))\n",
    "\n",
    "ax.plot(np.linspace(0.01,0.5,100), prices)\n",
    "ax.set_xlabel('Volatility')\n",
    "ax.set_ylabel('Clean Prices')\n",
    "\n",
    "plt.tight_layout()\n",
    "plt.show()"
   ]
  }
 ],
 "metadata": {
  "kernelspec": {
   "display_name": "Python 3.8.8 64-bit ('DL': conda)",
   "language": "python",
   "name": "python388jvsc74a57bd05f58e7dbcddfdb99f90b0447783d5390db8cd74aa541842f8b458cd6f0565a39"
  },
  "language_info": {
   "codemirror_mode": {
    "name": "ipython",
    "version": 3
   },
   "file_extension": ".py",
   "mimetype": "text/x-python",
   "name": "python",
   "nbconvert_exporter": "python",
   "pygments_lexer": "ipython3",
   "version": "3.8.8"
  }
 },
 "nbformat": 4,
 "nbformat_minor": 5
}
