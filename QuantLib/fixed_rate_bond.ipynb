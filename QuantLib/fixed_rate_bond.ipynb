{
 "cells": [
  {
   "cell_type": "markdown",
   "id": "5aa46de7",
   "metadata": {},
   "source": [
    "# Modeling fixed rate bonds"
   ]
  },
  {
   "cell_type": "code",
   "execution_count": 1,
   "id": "6a3f8ef8",
   "metadata": {},
   "outputs": [],
   "source": [
    "import QuantLib as ql "
   ]
  },
  {
   "cell_type": "code",
   "execution_count": 2,
   "id": "7806edcb",
   "metadata": {},
   "outputs": [],
   "source": [
    "# set evaluation date\n",
    "\n",
    "eval_date = ql.Date(15, ql.January, 2015)\n",
    "ql.Settings.instance().evaluationDate = eval_date"
   ]
  },
  {
   "cell_type": "code",
   "execution_count": 3,
   "id": "b156528e",
   "metadata": {},
   "outputs": [],
   "source": [
    "# given spot rates\n",
    "\n",
    "spot_dates = [ql.Date(15, 1, 2015), ql.Date(15, 7, 2015), ql.Date(15, 1, 2016)]\n",
    "spot_rates = [0.0, 0.005, 0.007]"
   ]
  },
  {
   "cell_type": "code",
   "execution_count": 4,
   "id": "b252c3f5",
   "metadata": {},
   "outputs": [],
   "source": [
    "# construct a yield curve with the given spot rates\n",
    "\n",
    "day_count = ql.Thirty360()\n",
    "calendar = ql.UnitedStates()\n",
    "interpolation = ql.Linear()\n",
    "compounding = ql.Compounded\n",
    "compounding_frequency = ql.Annual\n",
    "\n",
    "spot_curve = ql.ZeroCurve(spot_dates,\n",
    "                          spot_rates,\n",
    "                          day_count,\n",
    "                          calendar,\n",
    "                          interpolation,\n",
    "                          compounding,\n",
    "                          compounding_frequency)\n",
    "\n",
    "spot_curve_handle = ql.YieldTermStructureHandle(spot_curve)"
   ]
  },
  {
   "cell_type": "code",
   "execution_count": 5,
   "id": "c0095115",
   "metadata": {},
   "outputs": [],
   "source": [
    "# create schedule of coupon payments\n",
    "\n",
    "issue_date = ql.Date(15, ql.January, 2015)\n",
    "maturity_date = ql.Date(15, ql.January, 2016)\n",
    "tenor = ql.Period(ql.Semiannual)\n",
    "calendar = ql.UnitedStates()\n",
    "business_convention = ql.Unadjusted\n",
    "date_generation = ql.DateGeneration.Backward\n",
    "month_end = False\n",
    "\n",
    "schedule = ql.Schedule(issue_date,\n",
    "                       maturity_date,\n",
    "                       tenor,\n",
    "                       calendar,\n",
    "                       business_convention,\n",
    "                       business_convention,\n",
    "                       date_generation,\n",
    "                       month_end)"
   ]
  },
  {
   "cell_type": "code",
   "execution_count": 6,
   "id": "f9c55bde",
   "metadata": {},
   "outputs": [
    {
     "data": {
      "text/plain": [
       "[Date(15,1,2015), Date(15,7,2015), Date(15,1,2016)]"
      ]
     },
     "execution_count": 6,
     "metadata": {},
     "output_type": "execute_result"
    }
   ],
   "source": [
    "list(schedule)"
   ]
  },
  {
   "cell_type": "code",
   "execution_count": 7,
   "id": "f6294f70",
   "metadata": {},
   "outputs": [],
   "source": [
    "coupon_rate = 0.06\n",
    "coupons = [coupon_rate]\n",
    "settlement_days = 0\n",
    "face_value = 100\n",
    "\n",
    "fixed_rate_bond = ql.FixedRateBond(settlement_days,\n",
    "                                   face_value,\n",
    "                                   schedule,\n",
    "                                   coupons,\n",
    "                                   day_count)"
   ]
  },
  {
   "cell_type": "code",
   "execution_count": 8,
   "id": "18929d0b",
   "metadata": {},
   "outputs": [],
   "source": [
    "bond_engine = ql.DiscountingBondEngine(spot_curve_handle)\n",
    "fixed_rate_bond.setPricingEngine(bond_engine)"
   ]
  },
  {
   "cell_type": "code",
   "execution_count": 9,
   "id": "e2fcff3c",
   "metadata": {},
   "outputs": [
    {
     "data": {
      "text/plain": [
       "105.27653992490683"
      ]
     },
     "execution_count": 9,
     "metadata": {},
     "output_type": "execute_result"
    }
   ],
   "source": [
    "fixed_rate_bond.NPV()"
   ]
  },
  {
   "cell_type": "code",
   "execution_count": 10,
   "id": "a575a3ca",
   "metadata": {},
   "outputs": [
    {
     "data": {
      "text/plain": [
       "105.27653992490683"
      ]
     },
     "execution_count": 10,
     "metadata": {},
     "output_type": "execute_result"
    }
   ],
   "source": [
    "fixed_rate_bond.cleanPrice()"
   ]
  },
  {
   "cell_type": "code",
   "execution_count": 11,
   "id": "95889752",
   "metadata": {},
   "outputs": [
    {
     "data": {
      "text/plain": [
       "0.0"
      ]
     },
     "execution_count": 11,
     "metadata": {},
     "output_type": "execute_result"
    }
   ],
   "source": [
    "fixed_rate_bond.accruedAmount()"
   ]
  },
  {
   "cell_type": "code",
   "execution_count": 12,
   "id": "bdbf8499",
   "metadata": {},
   "outputs": [
    {
     "data": {
      "text/plain": [
       "105.27653992490683"
      ]
     },
     "execution_count": 12,
     "metadata": {},
     "output_type": "execute_result"
    }
   ],
   "source": [
    "fixed_rate_bond.dirtyPrice()"
   ]
  },
  {
   "cell_type": "code",
   "execution_count": 13,
   "id": "d006e576",
   "metadata": {},
   "outputs": [
    {
     "data": {
      "text/plain": [
       "0.006971154634952549"
      ]
     },
     "execution_count": 13,
     "metadata": {},
     "output_type": "execute_result"
    }
   ],
   "source": [
    "fixed_rate_bond.bondYield(day_count,\n",
    "                          compounding,\n",
    "                          compounding_frequency)"
   ]
  }
 ],
 "metadata": {
  "kernelspec": {
   "display_name": "Python 3.8.8 64-bit ('DL': conda)",
   "language": "python",
   "name": "python388jvsc74a57bd05f58e7dbcddfdb99f90b0447783d5390db8cd74aa541842f8b458cd6f0565a39"
  },
  "language_info": {
   "codemirror_mode": {
    "name": "ipython",
    "version": 3
   },
   "file_extension": ".py",
   "mimetype": "text/x-python",
   "name": "python",
   "nbconvert_exporter": "python",
   "pygments_lexer": "ipython3",
   "version": "3.8.8"
  }
 },
 "nbformat": 4,
 "nbformat_minor": 5
}
