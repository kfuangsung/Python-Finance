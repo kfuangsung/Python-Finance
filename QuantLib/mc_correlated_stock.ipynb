{
 "cells": [
  {
   "cell_type": "markdown",
   "id": "d6cff7cd",
   "metadata": {},
   "source": [
    "# simulate three correlated stocks"
   ]
  },
  {
   "cell_type": "code",
   "execution_count": 1,
   "id": "cb2c7bd6",
   "metadata": {},
   "outputs": [],
   "source": [
    "import QuantLib as ql \n",
    "import matplotlib.pyplot as plt \n",
    "\n",
    "plt.style.use('bmh')"
   ]
  },
  {
   "cell_type": "code",
   "execution_count": 2,
   "id": "701d28fc",
   "metadata": {},
   "outputs": [],
   "source": [
    "# set evaluation_date\n",
    "\n",
    "eval_date = ql.Date(10, ql.January, 2022)\n",
    "ql.Settings.instance().evaluationDate = eval_date"
   ]
  },
  {
   "cell_type": "code",
   "execution_count": 3,
   "id": "6cca50d2",
   "metadata": {},
   "outputs": [],
   "source": [
    "# risk-free curve\n",
    "rf = ql.FlatForward(eval_date, 0.01, ql.Actual360())\n",
    "risk_free_curve = ql.YieldTermStructureHandle(rf)"
   ]
  },
  {
   "cell_type": "code",
   "execution_count": 4,
   "id": "bba2e60b",
   "metadata": {},
   "outputs": [],
   "source": [
    "# quote for 3 stocks\n",
    "quotes = [ql.SimpleQuote(s) for s in [100, 80, 110]]\n",
    "\n",
    "# sigma for 3 stocks\n",
    "sigmas = [ql.BlackConstantVol(eval_date, ql.TARGET(), sigma, ql.Actual360()) \n",
    "          for sigma in [0.2, 0.25, 0.18]]"
   ]
  },
  {
   "cell_type": "code",
   "execution_count": 5,
   "id": "56f35e0f",
   "metadata": {},
   "outputs": [],
   "source": [
    "# create 3 BS processes for 3 stocks\n",
    "processes = [ql.BlackScholesProcess(ql.QuoteHandle(quote),\n",
    "                                  risk_free_curve,\n",
    "                                  ql.BlackVolTermStructureHandle(sigma))\n",
    "           for quote, sigma in zip(quotes, sigmas)]"
   ]
  },
  {
   "cell_type": "code",
   "execution_count": 6,
   "id": "e86d47b2",
   "metadata": {},
   "outputs": [],
   "source": [
    "# correlation matrix\n",
    "\n",
    "rho = [[1, 0.6, 0.8],\n",
    "       [0.6, 1, 0.4],\n",
    "       [0.8, 0.4, 1]]"
   ]
  },
  {
   "cell_type": "code",
   "execution_count": 7,
   "id": "cdc65517",
   "metadata": {},
   "outputs": [],
   "source": [
    "# combine processes with rho\n",
    "\n",
    "process = ql.StochasticProcessArray(processes, rho)"
   ]
  },
  {
   "cell_type": "code",
   "execution_count": 8,
   "id": "d949e097",
   "metadata": {},
   "outputs": [
    {
     "data": {
      "text/plain": [
       "3"
      ]
     },
     "execution_count": 8,
     "metadata": {},
     "output_type": "execute_result"
    }
   ],
   "source": [
    "process.factors() # 3 stocks"
   ]
  },
  {
   "cell_type": "code",
   "execution_count": 9,
   "id": "465085cd",
   "metadata": {},
   "outputs": [],
   "source": [
    "# random number generator\n",
    "\n",
    "def rng(dimensionality):\n",
    "    uniform_seq_gen = ql.UniformRandomSequenceGenerator(dimensionality,\n",
    "                                                        ql.UniformRandomGenerator())\n",
    "    gaussian_seq_gen = ql.GaussianRandomSequenceGenerator(uniform_seq_gen)\n",
    "    \n",
    "    return gaussian_seq_gen"
   ]
  },
  {
   "cell_type": "code",
   "execution_count": 10,
   "id": "920cdb1d",
   "metadata": {},
   "outputs": [
    {
     "data": {
      "text/plain": [
       "[0.08333333333333333,\n",
       " 0.16666666666666666,\n",
       " 0.25,\n",
       " 0.3333333333333333,\n",
       " 0.4166666666666667,\n",
       " 0.5,\n",
       " 0.5833333333333334,\n",
       " 0.6666666666666666,\n",
       " 0.75,\n",
       " 0.8333333333333334,\n",
       " 0.9166666666666666,\n",
       " 1.0]"
      ]
     },
     "execution_count": 10,
     "metadata": {},
     "output_type": "execute_result"
    }
   ],
   "source": [
    "# set time --> simulate 12-step in 1-year\n",
    "times = [i/12 for i in range(1,13)]\n",
    "times"
   ]
  },
  {
   "cell_type": "code",
   "execution_count": 11,
   "id": "08e9bb0a",
   "metadata": {},
   "outputs": [],
   "source": [
    "# dimension = num_stocks * num_steps\n",
    "dim = 3 * len(times)\n",
    "\n",
    "generator = ql.GaussianMultiPathGenerator(process, times, rng(dim))"
   ]
  },
  {
   "cell_type": "code",
   "execution_count": 12,
   "id": "a9207a70",
   "metadata": {},
   "outputs": [],
   "source": [
    "samples = generator.next().value()"
   ]
  },
  {
   "cell_type": "code",
   "execution_count": 13,
   "id": "b563e51e",
   "metadata": {},
   "outputs": [
    {
     "data": {
      "text/plain": [
       "[<QuantLib.QuantLib.Path; proxy of <Swig Object of type 'Path *' at 0x7fa769a78150> >,\n",
       " <QuantLib.QuantLib.Path; proxy of <Swig Object of type 'Path *' at 0x7fa769a782a0> >,\n",
       " <QuantLib.QuantLib.Path; proxy of <Swig Object of type 'Path *' at 0x7fa769a78240> >]"
      ]
     },
     "execution_count": 13,
     "metadata": {},
     "output_type": "execute_result"
    }
   ],
   "source": [
    "list(samples)"
   ]
  },
  {
   "cell_type": "code",
   "execution_count": 14,
   "id": "a6f767b7",
   "metadata": {},
   "outputs": [
    {
     "data": {
      "text/plain": [
       "[100.0,\n",
       " 101.51000526050076,\n",
       " 103.12453954352216,\n",
       " 107.54815796903911,\n",
       " 110.05161907260081,\n",
       " 115.14284517013618,\n",
       " 116.79237883453965,\n",
       " 128.05953515921976,\n",
       " 117.87900357616957,\n",
       " 114.31911689378926,\n",
       " 117.10219570702438,\n",
       " 131.61709616866972,\n",
       " 123.81329453769732]"
      ]
     },
     "execution_count": 14,
     "metadata": {},
     "output_type": "execute_result"
    }
   ],
   "source": [
    "list(samples[0])"
   ]
  },
  {
   "cell_type": "code",
   "execution_count": 15,
   "id": "8175d003",
   "metadata": {},
   "outputs": [
    {
     "data": {
      "image/png": "[encoded data removed]",
      "text/plain": [
       "<Figure size 864x360 with 1 Axes>"
      ]
     },
     "metadata": {
      "needs_background": "light"
     },
     "output_type": "display_data"
    }
   ],
   "source": [
    "# add time 0 for plotting\n",
    "ts = [0] + times\n",
    "\n",
    "fig, ax = plt.subplots(figsize=(12,5))\n",
    "\n",
    "for i in range(len(list(samples))):\n",
    "    ax.plot(ts, samples[i], label=f\"Stock{i+1}\")\n",
    "\n",
    "ax.legend(loc='best')\n",
    "plt.tight_layout()\n",
    "plt.show()"
   ]
  }
 ],
 "metadata": {
  "kernelspec": {
   "display_name": "Python 3.8.8 64-bit ('DL': conda)",
   "language": "python",
   "name": "python388jvsc74a57bd05f58e7dbcddfdb99f90b0447783d5390db8cd74aa541842f8b458cd6f0565a39"
  },
  "language_info": {
   "codemirror_mode": {
    "name": "ipython",
    "version": 3
   },
   "file_extension": ".py",
   "mimetype": "text/x-python",
   "name": "python",
   "nbconvert_exporter": "python",
   "pygments_lexer": "ipython3",
   "version": "3.8.8"
  }
 },
 "nbformat": 4,
 "nbformat_minor": 5
}
