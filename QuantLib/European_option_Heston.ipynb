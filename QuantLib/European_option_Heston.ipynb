{
 "cells": [
  {
   "cell_type": "markdown",
   "id": "d357e238",
   "metadata": {},
   "source": [
    "# Valuing European option using the Heston model"
   ]
  },
  {
   "cell_type": "markdown",
   "id": "701721eb",
   "metadata": {},
   "source": [
    "$$ dS_t = \\mu S_t dt + \\sqrt{V_t} S_t dW^1_t $$ <br>\n",
    "$$ dV_t = \\kappa (\\theta - V_t) + \\sigma \\sqrt{V_t} d W^2_t $$\n",
    "\n",
    "* $S_t$ is the asset’s value at time t\n",
    "* $\\mu$ is the expected growth rate of the log normal stock value\n",
    "* $V_t$ is the variance of the asset $S_t$\n",
    "* $W_t^1$ is the stochastic process governing the $S_t$ process\n",
    "* θ is the value of mean reversion for the variance $V_t$\n",
    "* $\\kappa$ is the strength of mean reversion\n",
    "* $\\sigma$ is the volatility of volatility\n",
    "* $W_t^2$ is the stochastic process governing the $V_t$ process\n",
    "* The correlation between $W_t^1$ and $W_t^2$ is $\\rho$\n",
    "\n",
    "**In contrast, the Black-Scholes-Merton process assumes that the volatility is constant.**"
   ]
  },
  {
   "cell_type": "code",
   "execution_count": 1,
   "id": "7821f385",
   "metadata": {},
   "outputs": [],
   "source": [
    "import QuantLib as ql \n",
    "import numpy as np "
   ]
  },
  {
   "cell_type": "markdown",
   "id": "7f4ec368",
   "metadata": {},
   "source": [
    "**Example**\n",
    "* European Call option\n",
    "* strike price \\$130\n",
    "* spot price \\$127.62\n",
    "* volatility of stock is 20%\n",
    "* dividend yield is 1.63%\n",
    "* short-term risk free rate is 0.1%\n",
    "* today is 8th May, 2015\n",
    "* expire on 15th Jan, 2016"
   ]
  },
  {
   "cell_type": "code",
   "execution_count": 2,
   "id": "2065c52b",
   "metadata": {},
   "outputs": [],
   "source": [
    "# set evaluation date\n",
    "\n",
    "eval_date = ql.Date(8, ql.May, 2015)\n",
    "ql.Settings.instance().evaluationDate = eval_date"
   ]
  },
  {
   "cell_type": "code",
   "execution_count": 3,
   "id": "58d88550",
   "metadata": {},
   "outputs": [],
   "source": [
    "# define option data\n",
    "\n",
    "maturity_date = ql.Date(15, ql.January, 2016)\n",
    "spot_price = 127.62\n",
    "strike_price = 130\n",
    "volatility = 0.2\n",
    "dividend_rate = 0.0163\n",
    "option_type = ql.Option.Call\n",
    "risk_free_rate = 0.001\n",
    "day_count = ql.Actual365Fixed()\n",
    "calendar = ql.UnitedStates()"
   ]
  },
  {
   "cell_type": "code",
   "execution_count": 4,
   "id": "b9eeb145",
   "metadata": {},
   "outputs": [],
   "source": [
    "# construct European option\n",
    "\n",
    "payoff = ql.PlainVanillaPayoff(option_type, strike_price)\n",
    "exercise = ql.EuropeanExercise(maturity_date)\n",
    "european_option = ql.VanillaOption(payoff, exercise)"
   ]
  },
  {
   "cell_type": "code",
   "execution_count": 5,
   "id": "73f6589f",
   "metadata": {},
   "outputs": [],
   "source": [
    "# construct Heston process\n",
    "\n",
    "v0 = volatility**2 # spot variance\n",
    "kappa = 0.1        # mean reversion strength\n",
    "theta = v0         # mean reversion variance\n",
    "sigma = 0.1        # volatility of volatility\n",
    "rho = -0.75        # correlation between the asset price and its variance\n",
    "\n",
    "spot_handle = ql.QuoteHandle(ql.SimpleQuote(spot_price))\n",
    "\n",
    "flat_ts = ql.YieldTermStructureHandle(ql.FlatForward(eval_date,\n",
    "                                                     risk_free_rate,\n",
    "                                                     day_count))\n",
    "\n",
    "dividend_yield = ql.YieldTermStructureHandle(ql.FlatForward(eval_date,\n",
    "                                                            dividend_rate,\n",
    "                                                            day_count))\n",
    "\n",
    "heston_process = ql.HestonProcess(flat_ts, \n",
    "                                  dividend_yield,\n",
    "                                  spot_handle,\n",
    "                                  v0,\n",
    "                                  kappa, \n",
    "                                  theta,\n",
    "                                  sigma,\n",
    "                                  rho)"
   ]
  },
  {
   "cell_type": "code",
   "execution_count": 6,
   "id": "6875638f",
   "metadata": {},
   "outputs": [],
   "source": [
    "engine = ql.AnalyticHestonEngine(ql.HestonModel(heston_process))\n",
    "european_option.setPricingEngine(engine)"
   ]
  },
  {
   "cell_type": "code",
   "execution_count": 7,
   "id": "4ebea512",
   "metadata": {},
   "outputs": [
    {
     "data": {
      "text/plain": [
       "6.533866879681"
      ]
     },
     "execution_count": 7,
     "metadata": {},
     "output_type": "execute_result"
    }
   ],
   "source": [
    "european_option.NPV()"
   ]
  }
 ],
 "metadata": {
  "kernelspec": {
   "display_name": "Python 3.8.8 64-bit ('DL': conda)",
   "language": "python",
   "name": "python388jvsc74a57bd05f58e7dbcddfdb99f90b0447783d5390db8cd74aa541842f8b458cd6f0565a39"
  },
  "language_info": {
   "codemirror_mode": {
    "name": "ipython",
    "version": 3
   },
   "file_extension": ".py",
   "mimetype": "text/x-python",
   "name": "python",
   "nbconvert_exporter": "python",
   "pygments_lexer": "ipython3",
   "version": "3.8.8"
  }
 },
 "nbformat": 4,
 "nbformat_minor": 5
}
