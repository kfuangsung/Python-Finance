{
 "cells": [
  {
   "cell_type": "markdown",
   "id": "411099fa",
   "metadata": {},
   "source": [
    "# EONIA curve bootstrapping"
   ]
  },
  {
   "cell_type": "markdown",
   "id": "d99d29c7",
   "metadata": {},
   "source": [
    "**The Euro Overnight Index Average (Eonia) is the average overnight reference rate for which European banks lend to one another in euros.**"
   ]
  },
  {
   "cell_type": "code",
   "execution_count": 1,
   "id": "5af9941d",
   "metadata": {},
   "outputs": [],
   "source": [
    "import QuantLib as ql \n",
    "import matplotlib.pyplot as plt \n",
    "from datetime import date\n",
    "import pandas as pd \n",
    "\n",
    "plt.style.use('bmh')"
   ]
  },
  {
   "cell_type": "code",
   "execution_count": 2,
   "id": "5c4b6159",
   "metadata": {},
   "outputs": [],
   "source": [
    "# set calculation date\n",
    "calc_date = ql.Date(11, ql.December, 2012)\n",
    "ql.Settings.instance().evaluationDate = calc_date"
   ]
  },
  {
   "cell_type": "code",
   "execution_count": 3,
   "id": "7471df98",
   "metadata": {},
   "outputs": [],
   "source": [
    "# The first three instruments are \n",
    "# three 1-day deposit that give us \n",
    "# discounting between today and the day after spot.\n",
    "\n",
    "# number of fixing days going from \n",
    "# 0 (for the deposit starting today) to \n",
    "# 2 (for the deposit starting on the spot date)\n",
    "\n",
    "helpers = [\n",
    "    ql.DepositRateHelper(ql.QuoteHandle(ql.SimpleQuote(rate/100)),\n",
    "                         ql.Period(1, ql.Days),\n",
    "                         fixingDays,\n",
    "                         ql.TARGET(),\n",
    "                         ql.Following,\n",
    "                         False,\n",
    "                         ql.Actual360())\n",
    "    for rate, fixingDays in [(0.04, 0), (0.04, 1), (0.04, 2)]\n",
    "]"
   ]
  },
  {
   "cell_type": "markdown",
   "id": "c156db3c",
   "metadata": {},
   "source": [
    "**OISRateHelper**<br>\n",
    "**DatedOISRateHelper**<br>\n",
    "Rate helper for bootstrapping over Overnight Indexed Swap rates."
   ]
  },
  {
   "cell_type": "code",
   "execution_count": 4,
   "id": "3e8a9b30",
   "metadata": {},
   "outputs": [],
   "source": [
    "# series of OIS quotes for the first month\n",
    "\n",
    "eonia = ql.Eonia()\n",
    "\n",
    "helpers += [\n",
    "    ql.OISRateHelper(2,\n",
    "                     ql.Period(*tenor),\n",
    "                     ql.QuoteHandle(ql.SimpleQuote(rate/100)),\n",
    "                     eonia)\n",
    "    for rate, tenor in [(0.070, (1,ql.Weeks)), \n",
    "                        (0.069, (2,ql.Weeks)), \n",
    "                        (0.078, (3,ql.Weeks)), \n",
    "                        (0.074, (1,ql.Months))]\n",
    "]"
   ]
  },
  {
   "cell_type": "code",
   "execution_count": 5,
   "id": "8661bf48",
   "metadata": {},
   "outputs": [],
   "source": [
    "# five OIS forwards on ECB dates\n",
    "# specify start and end dates explicitly --> need DatedOISRateHelper\n",
    "\n",
    "helpers += [\n",
    "    ql.DatedOISRateHelper(start_date,\n",
    "                          end_date,\n",
    "                          ql.QuoteHandle(ql.SimpleQuote(rate/100)),\n",
    "                          eonia)\n",
    "                                        # rate   # start_date                 # end_date\n",
    "    for rate, start_date, end_date in [( 0.046, ql.Date(16,ql.January,2013), ql.Date(13,ql.February,2013)),\n",
    "                                       ( 0.016, ql.Date(13,ql.February,2013), ql.Date(13,ql.March,2013)),\n",
    "                                       (-0.007, ql.Date(13,ql.March,2013), ql.Date(10,ql.April,2013)),\n",
    "                                       (-0.013, ql.Date(10,ql.April,2013), ql.Date(8,ql.May,2013)),\n",
    "                                       (-0.014, ql.Date(8,ql.May,2013), ql.Date(12,ql.June,2013))]\n",
    "]"
   ]
  },
  {
   "cell_type": "code",
   "execution_count": 6,
   "id": "485d7e59",
   "metadata": {},
   "outputs": [],
   "source": [
    "# add OIS quotes up to 30 years.\n",
    "\n",
    "helpers += [\n",
    "    ql.OISRateHelper(2,\n",
    "                     ql.Period(*tenor),\n",
    "                     ql.QuoteHandle(ql.SimpleQuote(rate/100)),\n",
    "                     eonia)\n",
    "    \n",
    "    for rate, tenor in [(0.002, (15,ql.Months)), \n",
    "                        (0.008, (18,ql.Months)),\n",
    "                        (0.021, (21,ql.Months)), \n",
    "                        (0.036, (2,ql.Years)),\n",
    "                        (0.127, (3,ql.Years)), \n",
    "                        (0.274, (4,ql.Years)),\n",
    "                        (0.456, (5,ql.Years)), \n",
    "                        (0.647, (6,ql.Years)),\n",
    "                        (0.827, (7,ql.Years)), \n",
    "                        (0.996, (8,ql.Years)),\n",
    "                        (1.147, (9,ql.Years)), \n",
    "                        (1.280, (10,ql.Years)),\n",
    "                        (1.404, (11,ql.Years)), \n",
    "                        (1.516, (12,ql.Years)),\n",
    "                        (1.764, (15,ql.Years)), \n",
    "                        (1.939, (20,ql.Years)),\n",
    "                        (2.003, (25,ql.Years)), \n",
    "                        (2.038, (30,ql.Years))]\n",
    "]"
   ]
  },
  {
   "cell_type": "code",
   "execution_count": 7,
   "id": "02e0b6a7",
   "metadata": {},
   "outputs": [],
   "source": [
    "eonia_curve = ql.PiecewiseLogCubicDiscount(0,\n",
    "                                           ql.TARGET(),\n",
    "                                           helpers,\n",
    "                                           ql.Actual365Fixed())"
   ]
  },
  {
   "cell_type": "code",
   "execution_count": 8,
   "id": "dd92afa3",
   "metadata": {},
   "outputs": [],
   "source": [
    "eonia_curve.enableExtrapolation()"
   ]
  },
  {
   "cell_type": "code",
   "execution_count": 9,
   "id": "2bfd84d8",
   "metadata": {},
   "outputs": [],
   "source": [
    "today = eonia_curve.referenceDate()\n",
    "end = today + ql.Period(2, ql.Years)"
   ]
  },
  {
   "cell_type": "code",
   "execution_count": 10,
   "id": "520ea27a",
   "metadata": {},
   "outputs": [],
   "source": [
    "dates = [ql.Date(serial) for serial in range(today.serialNumber(), end.serialNumber())]"
   ]
  },
  {
   "cell_type": "code",
   "execution_count": 11,
   "id": "2028f259",
   "metadata": {},
   "outputs": [],
   "source": [
    "rates = [\n",
    "    eonia_curve.forwardRate(d,\n",
    "                            ql.TARGET().advance(d, 1, ql.Days),\n",
    "                            ql.Actual360(),\n",
    "                            ql.Simple).rate()\n",
    "    for d in dates\n",
    "]"
   ]
  },
  {
   "cell_type": "code",
   "execution_count": 12,
   "id": "5f3a5c1e",
   "metadata": {},
   "outputs": [
    {
     "data": {
      "text/html": [
       "<div>\n",
       "<style scoped>\n",
       "    .dataframe tbody tr th:only-of-type {\n",
       "        vertical-align: middle;\n",
       "    }\n",
       "\n",
       "    .dataframe tbody tr th {\n",
       "        vertical-align: top;\n",
       "    }\n",
       "\n",
       "    .dataframe thead th {\n",
       "        text-align: right;\n",
       "    }\n",
       "</style>\n",
       "<table border=\"1\" class=\"dataframe\">\n",
       "  <thead>\n",
       "    <tr style=\"text-align: right;\">\n",
       "      <th></th>\n",
       "      <th>Date</th>\n",
       "      <th>Curve</th>\n",
       "    </tr>\n",
       "  </thead>\n",
       "  <tbody>\n",
       "    <tr>\n",
       "      <th>0</th>\n",
       "      <td>December 11th, 2012</td>\n",
       "      <td>0.000400</td>\n",
       "    </tr>\n",
       "    <tr>\n",
       "      <th>1</th>\n",
       "      <td>December 12th, 2012</td>\n",
       "      <td>0.000400</td>\n",
       "    </tr>\n",
       "    <tr>\n",
       "      <th>2</th>\n",
       "      <td>December 13th, 2012</td>\n",
       "      <td>0.000400</td>\n",
       "    </tr>\n",
       "    <tr>\n",
       "      <th>3</th>\n",
       "      <td>December 14th, 2012</td>\n",
       "      <td>0.000672</td>\n",
       "    </tr>\n",
       "    <tr>\n",
       "      <th>4</th>\n",
       "      <td>December 15th, 2012</td>\n",
       "      <td>0.000737</td>\n",
       "    </tr>\n",
       "    <tr>\n",
       "      <th>...</th>\n",
       "      <td>...</td>\n",
       "      <td>...</td>\n",
       "    </tr>\n",
       "    <tr>\n",
       "      <th>725</th>\n",
       "      <td>December 6th, 2014</td>\n",
       "      <td>0.001609</td>\n",
       "    </tr>\n",
       "    <tr>\n",
       "      <th>726</th>\n",
       "      <td>December 7th, 2014</td>\n",
       "      <td>0.001612</td>\n",
       "    </tr>\n",
       "    <tr>\n",
       "      <th>727</th>\n",
       "      <td>December 8th, 2014</td>\n",
       "      <td>0.001618</td>\n",
       "    </tr>\n",
       "    <tr>\n",
       "      <th>728</th>\n",
       "      <td>December 9th, 2014</td>\n",
       "      <td>0.001624</td>\n",
       "    </tr>\n",
       "    <tr>\n",
       "      <th>729</th>\n",
       "      <td>December 10th, 2014</td>\n",
       "      <td>0.001630</td>\n",
       "    </tr>\n",
       "  </tbody>\n",
       "</table>\n",
       "<p>730 rows × 2 columns</p>\n",
       "</div>"
      ],
      "text/plain": [
       "                    Date     Curve\n",
       "0    December 11th, 2012  0.000400\n",
       "1    December 12th, 2012  0.000400\n",
       "2    December 13th, 2012  0.000400\n",
       "3    December 14th, 2012  0.000672\n",
       "4    December 15th, 2012  0.000737\n",
       "..                   ...       ...\n",
       "725   December 6th, 2014  0.001609\n",
       "726   December 7th, 2014  0.001612\n",
       "727   December 8th, 2014  0.001618\n",
       "728   December 9th, 2014  0.001624\n",
       "729  December 10th, 2014  0.001630\n",
       "\n",
       "[730 rows x 2 columns]"
      ]
     },
     "execution_count": 12,
     "metadata": {},
     "output_type": "execute_result"
    }
   ],
   "source": [
    "eonia_curve_df = pd.DataFrame(data={'Date':dates, 'Curve':rates})\n",
    "eonia_curve_df"
   ]
  },
  {
   "cell_type": "code",
   "execution_count": 13,
   "id": "605228e6",
   "metadata": {},
   "outputs": [],
   "source": [
    "# convert QuantLib.Date to python date\n",
    "\n",
    "def to_datetime(d):\n",
    "    return date(d.year(), d.month(), d.dayOfMonth())"
   ]
  },
  {
   "cell_type": "code",
   "execution_count": 14,
   "id": "89d0316c",
   "metadata": {},
   "outputs": [],
   "source": [
    "# convert QuantLib.Date to pd.datetime\n",
    "\n",
    "eonia_curve_df['Date'] = pd.to_datetime(eonia_curve_df.Date.apply(to_datetime))"
   ]
  },
  {
   "cell_type": "code",
   "execution_count": 15,
   "id": "efcaad29",
   "metadata": {},
   "outputs": [
    {
     "data": {
      "image/png": "[encoded data removed]",
      "text/plain": [
       "<Figure size 864x360 with 1 Axes>"
      ]
     },
     "metadata": {
      "needs_background": "light"
     },
     "output_type": "display_data"
    }
   ],
   "source": [
    "eonia_curve_df.plot('Date', 'Curve', figsize=(12,5), legend=False, xlabel='')\n",
    "plt.tight_layout()\n",
    "plt.show()"
   ]
  }
 ],
 "metadata": {
  "kernelspec": {
   "display_name": "Python 3.8.8 64-bit ('DL': conda)",
   "language": "python",
   "name": "python388jvsc74a57bd05f58e7dbcddfdb99f90b0447783d5390db8cd74aa541842f8b458cd6f0565a39"
  },
  "language_info": {
   "codemirror_mode": {
    "name": "ipython",
    "version": 3
   },
   "file_extension": ".py",
   "mimetype": "text/x-python",
   "name": "python",
   "nbconvert_exporter": "python",
   "pygments_lexer": "ipython3",
   "version": "3.8.8"
  }
 },
 "nbformat": 4,
 "nbformat_minor": 5
}
