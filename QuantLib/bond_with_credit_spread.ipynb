{
 "cells": [
  {
   "cell_type": "markdown",
   "id": "539b422d",
   "metadata": {},
   "source": [
    "# Valuation of bonds with credit spreads"
   ]
  },
  {
   "cell_type": "code",
   "execution_count": 1,
   "id": "c31239ac",
   "metadata": {},
   "outputs": [],
   "source": [
    "import QuantLib as ql "
   ]
  },
  {
   "cell_type": "code",
   "execution_count": 2,
   "id": "cd923c57",
   "metadata": {},
   "outputs": [],
   "source": [
    "# set evaluation date\n",
    "\n",
    "eval_date = ql.Date(26, ql.July, 2016)\n",
    "ql.Settings.instance().evaluationDate = eval_date"
   ]
  },
  {
   "cell_type": "code",
   "execution_count": 3,
   "id": "13315623",
   "metadata": {},
   "outputs": [],
   "source": [
    "# construct yield curve\n",
    "\n",
    "flat_rate = ql.SimpleQuote(0.0015)\n",
    "rate_handle = ql.QuoteHandle(flat_rate)\n",
    "day_count = ql.Actual360()\n",
    "calendar = ql.UnitedStates()\n",
    "\n",
    "ts_yield = ql.FlatForward(eval_date, rate_handle, day_count)\n",
    "ts_handle = ql.YieldTermStructureHandle(ts_yield)"
   ]
  },
  {
   "cell_type": "code",
   "execution_count": 4,
   "id": "57b8f3e2",
   "metadata": {},
   "outputs": [],
   "source": [
    "# construct schedule\n",
    "\n",
    "issue_date = ql.Date(15, ql.July, 2016)\n",
    "maturity_date = ql.Date(15, ql.July, 2021)\n",
    "tenor = ql.Period(ql.Semiannual)\n",
    "calendar = ql.UnitedStates()\n",
    "business_convention = ql.Unadjusted\n",
    "date_generation = ql.DateGeneration.Backward\n",
    "month_end = False\n",
    "\n",
    "schedule = ql.Schedule(issue_date,\n",
    "                       maturity_date,\n",
    "                       tenor,\n",
    "                       calendar,\n",
    "                       business_convention,\n",
    "                       business_convention,\n",
    "                       date_generation,\n",
    "                       month_end)"
   ]
  },
  {
   "cell_type": "code",
   "execution_count": 5,
   "id": "5b8f0b93",
   "metadata": {},
   "outputs": [],
   "source": [
    "# construct bond\n",
    "\n",
    "settlement_days = 0\n",
    "day_count = ql.Thirty360()\n",
    "coupon_rate = 0.03\n",
    "coupons = [coupon_rate]\n",
    "face_value = 100\n",
    "\n",
    "fixed_rate_bond = ql.FixedRateBond(settlement_days,\n",
    "                                   face_value,\n",
    "                                   schedule,\n",
    "                                   coupons,\n",
    "                                   day_count)"
   ]
  },
  {
   "cell_type": "code",
   "execution_count": 6,
   "id": "de3604ea",
   "metadata": {},
   "outputs": [
    {
     "data": {
      "text/plain": [
       "114.18461651948999"
      ]
     },
     "execution_count": 6,
     "metadata": {},
     "output_type": "execute_result"
    }
   ],
   "source": [
    "# engine\n",
    "\n",
    "bond_engine = ql.DiscountingBondEngine(ts_handle)\n",
    "fixed_rate_bond.setPricingEngine(bond_engine)\n",
    "fixed_rate_bond.NPV()"
   ]
  },
  {
   "cell_type": "code",
   "execution_count": 7,
   "id": "52afd382",
   "metadata": {},
   "outputs": [
    {
     "data": {
      "text/plain": [
       "111.5097766266561"
      ]
     },
     "execution_count": 7,
     "metadata": {},
     "output_type": "execute_result"
    }
   ],
   "source": [
    "# assume that the market prices this bond with a 50BP spread on top of the treasury\n",
    "\n",
    "flat_rate.setValue(0.0015 + 0.005)\n",
    "fixed_rate_bond.NPV()"
   ]
  },
  {
   "cell_type": "code",
   "execution_count": 8,
   "id": "8d030b15",
   "metadata": {},
   "outputs": [
    {
     "data": {
      "text/plain": [
       "114.18461651948999"
      ]
     },
     "execution_count": 8,
     "metadata": {},
     "output_type": "execute_result"
    }
   ],
   "source": [
    "flat_rate.setValue(0.0015)\n",
    "fixed_rate_bond.NPV()"
   ]
  },
  {
   "cell_type": "markdown",
   "id": "515a293e",
   "metadata": {},
   "source": [
    "## Parallel Shift of the Yield Curve"
   ]
  },
  {
   "cell_type": "code",
   "execution_count": 9,
   "id": "a4b5d295",
   "metadata": {},
   "outputs": [],
   "source": [
    "spread = ql.SimpleQuote(0.005)\n",
    "spread_handle = ql.QuoteHandle(spread)\n",
    "ts_spreaded = ql.ZeroSpreadedTermStructure(ts_handle, spread_handle)\n",
    "ts_spreaded_handle = ql.YieldTermStructureHandle(ts_spreaded)"
   ]
  },
  {
   "cell_type": "code",
   "execution_count": 10,
   "id": "f7554cc1",
   "metadata": {},
   "outputs": [],
   "source": [
    "bond_engine = ql.DiscountingBondEngine(ts_spreaded_handle)\n",
    "fixed_rate_bond.setPricingEngine(bond_engine)"
   ]
  },
  {
   "cell_type": "code",
   "execution_count": 11,
   "id": "71cfcab6",
   "metadata": {},
   "outputs": [
    {
     "data": {
      "text/plain": [
       "111.50977662665609"
      ]
     },
     "execution_count": 11,
     "metadata": {},
     "output_type": "execute_result"
    }
   ],
   "source": [
    "fixed_rate_bond.NPV()"
   ]
  },
  {
   "cell_type": "code",
   "execution_count": 12,
   "id": "9e739c9e",
   "metadata": {},
   "outputs": [
    {
     "data": {
      "text/plain": [
       "108.89999943320038"
      ]
     },
     "execution_count": 12,
     "metadata": {},
     "output_type": "execute_result"
    }
   ],
   "source": [
    "# change in spread \n",
    "\n",
    "spread.setValue(0.01)\n",
    "fixed_rate_bond.NPV()"
   ]
  },
  {
   "cell_type": "markdown",
   "id": "2e0f31d9",
   "metadata": {},
   "source": [
    "## Non-Parallel Shift of the Yield Curve"
   ]
  },
  {
   "cell_type": "code",
   "execution_count": 13,
   "id": "2058fe0f",
   "metadata": {},
   "outputs": [],
   "source": [
    "spread1 = ql.SimpleQuote(0.005)\n",
    "spread2 = ql.SimpleQuote(0.005)\n",
    "\n",
    "start_date = eval_date\n",
    "end_date = calendar.advance(start_date, ql.Period(50, ql.Years))\n",
    "\n",
    "ts_spreaded = ql.SpreadedLinearZeroInterpolatedTermStructure(ts_handle,\n",
    "                                                             [ql.QuoteHandle(spread1), ql.QuoteHandle(spread2)],\n",
    "                                                             [start_date, end_date])\n",
    "\n",
    "ts_spreaded_handle = ql.YieldTermStructureHandle(ts_spreaded)"
   ]
  },
  {
   "cell_type": "code",
   "execution_count": 14,
   "id": "5e81d1a1",
   "metadata": {},
   "outputs": [],
   "source": [
    "bond_engine = ql.DiscountingBondEngine(ts_spreaded_handle)\n",
    "fixed_rate_bond.setPricingEngine(bond_engine)"
   ]
  },
  {
   "cell_type": "code",
   "execution_count": 15,
   "id": "38693716",
   "metadata": {},
   "outputs": [
    {
     "data": {
      "text/plain": [
       "111.50977662665609"
      ]
     },
     "execution_count": 15,
     "metadata": {},
     "output_type": "execute_result"
    }
   ],
   "source": [
    "fixed_rate_bond.NPV()"
   ]
  },
  {
   "cell_type": "code",
   "execution_count": 16,
   "id": "09e870b7",
   "metadata": {},
   "outputs": [
    {
     "data": {
      "text/plain": [
       "108.89999943320038"
      ]
     },
     "execution_count": 16,
     "metadata": {},
     "output_type": "execute_result"
    }
   ],
   "source": [
    "# parallel shift\n",
    "\n",
    "spread1.setValue(0.01)\n",
    "spread2.setValue(0.01)\n",
    "fixed_rate_bond.NPV()"
   ]
  },
  {
   "cell_type": "code",
   "execution_count": 17,
   "id": "3f1d30e3",
   "metadata": {},
   "outputs": [
    {
     "data": {
      "text/plain": [
       "111.25358792334083"
      ]
     },
     "execution_count": 17,
     "metadata": {},
     "output_type": "execute_result"
    }
   ],
   "source": [
    "# non-parallel shift\n",
    "\n",
    "spread1.setValue(0.005)\n",
    "spread2.setValue(0.01)\n",
    "fixed_rate_bond.NPV()"
   ]
  }
 ],
 "metadata": {
  "kernelspec": {
   "display_name": "Python 3.8.8 64-bit ('DL': conda)",
   "language": "python",
   "name": "python388jvsc74a57bd05f58e7dbcddfdb99f90b0447783d5390db8cd74aa541842f8b458cd6f0565a39"
  },
  "language_info": {
   "codemirror_mode": {
    "name": "ipython",
    "version": 3
   },
   "file_extension": ".py",
   "mimetype": "text/x-python",
   "name": "python",
   "nbconvert_exporter": "python",
   "pygments_lexer": "ipython3",
   "version": "3.8.8"
  }
 },
 "nbformat": 4,
 "nbformat_minor": 5
}
