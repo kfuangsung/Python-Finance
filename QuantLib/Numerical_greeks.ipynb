{
 "cells": [
  {
   "cell_type": "markdown",
   "id": "4b30cd3d",
   "metadata": {},
   "source": [
    "# Barrier Option"
   ]
  },
  {
   "cell_type": "code",
   "execution_count": 1,
   "id": "aa318f25",
   "metadata": {},
   "outputs": [],
   "source": [
    "import QuantLib as ql "
   ]
  },
  {
   "cell_type": "code",
   "execution_count": 2,
   "id": "3d50b84f",
   "metadata": {},
   "outputs": [],
   "source": [
    "today = ql.Date(25, ql.March, 2022)\n",
    "ql.Settings.instance().evaluationDate = today"
   ]
  },
  {
   "cell_type": "code",
   "execution_count": 3,
   "id": "365ab1d7",
   "metadata": {},
   "outputs": [
    {
     "name": "stdout",
     "output_type": "stream",
     "text": [
      "March 25th, 2022\n"
     ]
    }
   ],
   "source": [
    "print(ql.Settings.instance().evaluationDate)"
   ]
  },
  {
   "cell_type": "code",
   "execution_count": 4,
   "id": "2a99dae2",
   "metadata": {},
   "outputs": [],
   "source": [
    "# knock-in barrier option\n",
    "\n",
    "exp_date = today + ql.Period(3, ql.Months)\n",
    "\n",
    "option = ql.BarrierOption(ql.Barrier.UpIn,\n",
    "                          120, # barrier\n",
    "                          0, # rebate\n",
    "                          ql.PlainVanillaPayoff(ql.Option.Call, 100),\n",
    "                          ql.EuropeanExercise(exp_date))"
   ]
  },
  {
   "cell_type": "code",
   "execution_count": 5,
   "id": "6262069e",
   "metadata": {},
   "outputs": [],
   "source": [
    "# constant values\n",
    "\n",
    "u = ql.SimpleQuote(100)\n",
    "r = ql.SimpleQuote(0.01)\n",
    "sigma = ql.SimpleQuote(0.2)"
   ]
  },
  {
   "cell_type": "code",
   "execution_count": 6,
   "id": "40621d26",
   "metadata": {},
   "outputs": [],
   "source": [
    "# interest rate curve\n",
    "# volatility curve\n",
    "\n",
    "risk_free_curve = ql.FlatForward(0, ql.TARGET(), ql.QuoteHandle(r), ql.Actual360())\n",
    "volatility = ql.BlackConstantVol(0, ql.TARGET(), ql.QuoteHandle(sigma), ql.Actual360())"
   ]
  },
  {
   "cell_type": "code",
   "execution_count": 7,
   "id": "3db2ab3a",
   "metadata": {},
   "outputs": [],
   "source": [
    "# get process\n",
    "\n",
    "process = ql.BlackScholesProcess(ql.QuoteHandle(u),\n",
    "                                 ql.YieldTermStructureHandle(risk_free_curve),\n",
    "                                 ql.BlackVolTermStructureHandle(volatility))"
   ]
  },
  {
   "cell_type": "code",
   "execution_count": 8,
   "id": "ce0b4577",
   "metadata": {},
   "outputs": [],
   "source": [
    "# get and set engine\n",
    "\n",
    "engine = ql.AnalyticBarrierEngine(process)\n",
    "option.setPricingEngine(engine)"
   ]
  },
  {
   "cell_type": "code",
   "execution_count": 9,
   "id": "648656f5",
   "metadata": {},
   "outputs": [
    {
     "name": "stdout",
     "output_type": "stream",
     "text": [
      "Option value: 1.3658\n"
     ]
    }
   ],
   "source": [
    "print(f\"Option value: {option.NPV():.4f}\")"
   ]
  },
  {
   "cell_type": "markdown",
   "id": "a767fa54",
   "metadata": {},
   "source": [
    "**engine doesn't provide the greeks**"
   ]
  },
  {
   "cell_type": "code",
   "execution_count": 10,
   "id": "f4509c9b",
   "metadata": {},
   "outputs": [
    {
     "ename": "RuntimeError",
     "evalue": "delta not provided",
     "output_type": "error",
     "traceback": [
      "\u001b[0;31m---------------------------------------------------------------------------\u001b[0m",
      "\u001b[0;31mRuntimeError\u001b[0m                              Traceback (most recent call last)",
      "Input \u001b[0;32mIn [10]\u001b[0m, in \u001b[0;36m<cell line: 1>\u001b[0;34m()\u001b[0m\n\u001b[0;32m----> 1\u001b[0m \u001b[43moption\u001b[49m\u001b[38;5;241;43m.\u001b[39;49m\u001b[43mdelta\u001b[49m\u001b[43m(\u001b[49m\u001b[43m)\u001b[49m\n",
      "File \u001b[0;32m~/anaconda3/envs/DL/lib/python3.8/site-packages/QuantLib/QuantLib.py:11771\u001b[0m, in \u001b[0;36mOneAssetOption.delta\u001b[0;34m(self)\u001b[0m\n\u001b[1;32m  11770\u001b[0m \u001b[38;5;28;01mdef\u001b[39;00m \u001b[38;5;21mdelta\u001b[39m(\u001b[38;5;28mself\u001b[39m):\n\u001b[0;32m> 11771\u001b[0m     \u001b[38;5;28;01mreturn\u001b[39;00m \u001b[43m_QuantLib\u001b[49m\u001b[38;5;241;43m.\u001b[39;49m\u001b[43mOneAssetOption_delta\u001b[49m\u001b[43m(\u001b[49m\u001b[38;5;28;43mself\u001b[39;49m\u001b[43m)\u001b[49m\n",
      "\u001b[0;31mRuntimeError\u001b[0m: delta not provided"
     ]
    }
   ],
   "source": [
    "option.delta()"
   ]
  },
  {
   "cell_type": "code",
   "execution_count": 11,
   "id": "d7a36ce5",
   "metadata": {},
   "outputs": [
    {
     "ename": "RuntimeError",
     "evalue": "gamma not provided",
     "output_type": "error",
     "traceback": [
      "\u001b[0;31m---------------------------------------------------------------------------\u001b[0m",
      "\u001b[0;31mRuntimeError\u001b[0m                              Traceback (most recent call last)",
      "Input \u001b[0;32mIn [11]\u001b[0m, in \u001b[0;36m<cell line: 1>\u001b[0;34m()\u001b[0m\n\u001b[0;32m----> 1\u001b[0m \u001b[43moption\u001b[49m\u001b[38;5;241;43m.\u001b[39;49m\u001b[43mgamma\u001b[49m\u001b[43m(\u001b[49m\u001b[43m)\u001b[49m\n",
      "File \u001b[0;32m~/anaconda3/envs/DL/lib/python3.8/site-packages/QuantLib/QuantLib.py:11780\u001b[0m, in \u001b[0;36mOneAssetOption.gamma\u001b[0;34m(self)\u001b[0m\n\u001b[1;32m  11779\u001b[0m \u001b[38;5;28;01mdef\u001b[39;00m \u001b[38;5;21mgamma\u001b[39m(\u001b[38;5;28mself\u001b[39m):\n\u001b[0;32m> 11780\u001b[0m     \u001b[38;5;28;01mreturn\u001b[39;00m \u001b[43m_QuantLib\u001b[49m\u001b[38;5;241;43m.\u001b[39;49m\u001b[43mOneAssetOption_gamma\u001b[49m\u001b[43m(\u001b[49m\u001b[38;5;28;43mself\u001b[39;49m\u001b[43m)\u001b[49m\n",
      "\u001b[0;31mRuntimeError\u001b[0m: gamma not provided"
     ]
    }
   ],
   "source": [
    "option.gamma()"
   ]
  },
  {
   "cell_type": "code",
   "execution_count": 12,
   "id": "1bf0501e",
   "metadata": {},
   "outputs": [
    {
     "ename": "RuntimeError",
     "evalue": "vega not provided",
     "output_type": "error",
     "traceback": [
      "\u001b[0;31m---------------------------------------------------------------------------\u001b[0m",
      "\u001b[0;31mRuntimeError\u001b[0m                              Traceback (most recent call last)",
      "Input \u001b[0;32mIn [12]\u001b[0m, in \u001b[0;36m<cell line: 1>\u001b[0;34m()\u001b[0m\n\u001b[0;32m----> 1\u001b[0m \u001b[43moption\u001b[49m\u001b[38;5;241;43m.\u001b[39;49m\u001b[43mvega\u001b[49m\u001b[43m(\u001b[49m\u001b[43m)\u001b[49m\n",
      "File \u001b[0;32m~/anaconda3/envs/DL/lib/python3.8/site-packages/QuantLib/QuantLib.py:11789\u001b[0m, in \u001b[0;36mOneAssetOption.vega\u001b[0;34m(self)\u001b[0m\n\u001b[1;32m  11788\u001b[0m \u001b[38;5;28;01mdef\u001b[39;00m \u001b[38;5;21mvega\u001b[39m(\u001b[38;5;28mself\u001b[39m):\n\u001b[0;32m> 11789\u001b[0m     \u001b[38;5;28;01mreturn\u001b[39;00m \u001b[43m_QuantLib\u001b[49m\u001b[38;5;241;43m.\u001b[39;49m\u001b[43mOneAssetOption_vega\u001b[49m\u001b[43m(\u001b[49m\u001b[38;5;28;43mself\u001b[39;49m\u001b[43m)\u001b[49m\n",
      "\u001b[0;31mRuntimeError\u001b[0m: vega not provided"
     ]
    }
   ],
   "source": [
    "option.vega()"
   ]
  },
  {
   "cell_type": "markdown",
   "id": "bbcb22ca",
   "metadata": {},
   "source": [
    "## Numerical calculation"
   ]
  },
  {
   "cell_type": "markdown",
   "id": "5eaed5a9",
   "metadata": {},
   "source": [
    "$$\\Delta = \\frac{P(u_0+h) - P(u_0-h)}{2h}$$ <br><br>\n",
    "$$\\Gamma = \\frac{P(u_0+h) - 2P(u_0) + P(u_0-h)}{h^2}$$"
   ]
  },
  {
   "cell_type": "code",
   "execution_count": 13,
   "id": "322c82b6",
   "metadata": {},
   "outputs": [],
   "source": [
    "u0 = u.value()\n",
    "h = 0.01\n",
    "P0 = option.NPV()"
   ]
  },
  {
   "cell_type": "code",
   "execution_count": 14,
   "id": "a336fbf4",
   "metadata": {},
   "outputs": [],
   "source": [
    "u.setValue(u0 + h)\n",
    "P_plus = option.NPV()\n",
    "\n",
    "u.setValue(u0 - h)\n",
    "P_minus = option.NPV()\n",
    "\n",
    "u.setValue(u0)"
   ]
  },
  {
   "cell_type": "code",
   "execution_count": 15,
   "id": "41d02bea",
   "metadata": {},
   "outputs": [
    {
     "name": "stdout",
     "output_type": "stream",
     "text": [
      "1.3657980739109867 1.3688112201958083 1.3627900998610207\n"
     ]
    }
   ],
   "source": [
    "print(P0, P_plus, P_minus)"
   ]
  },
  {
   "cell_type": "code",
   "execution_count": 16,
   "id": "99d7bb4c",
   "metadata": {},
   "outputs": [],
   "source": [
    "delta = (P_plus - P_minus) / (2*h)\n",
    "gamma = (P_plus - 2*P0 + P_minus) / (h**2)"
   ]
  },
  {
   "cell_type": "code",
   "execution_count": 17,
   "id": "c9dcd640",
   "metadata": {},
   "outputs": [
    {
     "name": "stdout",
     "output_type": "stream",
     "text": [
      "Delta: 0.3011\n",
      "Gamma: 0.0517\n"
     ]
    }
   ],
   "source": [
    "print(f\"Delta: {delta:.4f}\")\n",
    "print(f\"Gamma: {gamma:.4f}\")"
   ]
  },
  {
   "cell_type": "markdown",
   "id": "dab1e6d4",
   "metadata": {},
   "source": [
    "$$\\frac{\\partial P}{\\partial x} = \\frac{P(x_0+h) - P(x_0)}{h}$$"
   ]
  },
  {
   "cell_type": "code",
   "execution_count": 18,
   "id": "29ef34b7",
   "metadata": {},
   "outputs": [
    {
     "name": "stdout",
     "output_type": "stream",
     "text": [
      "Rho: 6.5310\n"
     ]
    }
   ],
   "source": [
    "# Rho --> change in risk-free rate\n",
    "\n",
    "r0 = r.value()\n",
    "h = 0.0001\n",
    "\n",
    "r.setValue(r0 + h)\n",
    "P_plus = option.NPV()\n",
    "\n",
    "r.setValue(r0)\n",
    "\n",
    "rho = (P_plus - P0) / h\n",
    "print(f\"Rho: {rho:.4f}\")"
   ]
  },
  {
   "cell_type": "code",
   "execution_count": 19,
   "id": "18cdf788",
   "metadata": {},
   "outputs": [
    {
     "name": "stdout",
     "output_type": "stream",
     "text": [
      "Vega: 26.5252\n"
     ]
    }
   ],
   "source": [
    "# Vega --> change in volatility\n",
    "\n",
    "sigma0 = sigma.value()\n",
    "h = 0.0001\n",
    "\n",
    "sigma.setValue(sigma0 + h)\n",
    "P_plus = option.NPV()\n",
    "\n",
    "sigma.setValue(sigma0)\n",
    "\n",
    "vega = (P_plus - P0) / h\n",
    "print(f\"Vega: {vega:.4f}\")"
   ]
  },
  {
   "cell_type": "code",
   "execution_count": 20,
   "id": "d0bfd35a",
   "metadata": {},
   "outputs": [
    {
     "name": "stdout",
     "output_type": "stream",
     "text": [
      "Theta: -32.2541\n"
     ]
    }
   ],
   "source": [
    "# Theta --> change in time\n",
    "\n",
    "ql.Settings.instance().evaluationDate = today + 1\n",
    "P1 = option.NPV()\n",
    "h = 1/365\n",
    "\n",
    "ql.Settings.instance().evaluationDate = today\n",
    "\n",
    "theta = (P1 - P0) / h\n",
    "print(f\"Theta: {theta:.4f}\")"
   ]
  }
 ],
 "metadata": {
  "kernelspec": {
   "display_name": "Python 3.8.8 64-bit ('DL': conda)",
   "language": "python",
   "name": "python388jvsc74a57bd05f58e7dbcddfdb99f90b0447783d5390db8cd74aa541842f8b458cd6f0565a39"
  },
  "language_info": {
   "codemirror_mode": {
    "name": "ipython",
    "version": 3
   },
   "file_extension": ".py",
   "mimetype": "text/x-python",
   "name": "python",
   "nbconvert_exporter": "python",
   "pygments_lexer": "ipython3",
   "version": "3.8.8"
  }
 },
 "nbformat": 4,
 "nbformat_minor": 5
}
