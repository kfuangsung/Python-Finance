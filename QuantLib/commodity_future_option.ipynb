{
 "cells": [
  {
   "cell_type": "markdown",
   "id": "da499730",
   "metadata": {},
   "source": [
    "# Valuing options on commodity futures using the Black formula"
   ]
  },
  {
   "cell_type": "code",
   "execution_count": 1,
   "id": "a4b218bb",
   "metadata": {},
   "outputs": [],
   "source": [
    "import QuantLib as ql "
   ]
  },
  {
   "cell_type": "markdown",
   "id": "ae2efbc6",
   "metadata": {},
   "source": [
    "**Options on treasury futures (10 Yr Note TYF6C 119)**\n",
    "* Call option\n",
    "* today is December 1, 2015\n",
    "* expire on December 24, 2015\n",
    "* current future price is 126.95\n",
    "* strike price is 119\n",
    "* volaility is 11.567%\n",
    "* risk-free rate is 0.105%"
   ]
  },
  {
   "cell_type": "code",
   "execution_count": 2,
   "id": "e7dd73fa",
   "metadata": {},
   "outputs": [],
   "source": [
    "# set evaluation date\n",
    "\n",
    "eval_date = ql.Date(1, ql.December, 2015)\n",
    "ql.Settings.instance().evaluationDate = eval_date"
   ]
  },
  {
   "cell_type": "code",
   "execution_count": 3,
   "id": "d417fb82",
   "metadata": {},
   "outputs": [],
   "source": [
    "# option data\n",
    "\n",
    "maturity_date = ql.Date(24, ql.December, 2015)\n",
    "strike_price = 119\n",
    "spot_price = 126.95\n",
    "volatility = 11.567/100\n",
    "option_type = ql.Option.Call\n",
    "risk_free_rate = 0.105/100"
   ]
  },
  {
   "cell_type": "code",
   "execution_count": 4,
   "id": "0db8b767",
   "metadata": {},
   "outputs": [],
   "source": [
    "# set arguments\n",
    "\n",
    "calendar = ql.UnitedStates()\n",
    "business_convention = ql.ModifiedFollowing\n",
    "settlement_days = 0\n",
    "day_count = ql.ActualActual()"
   ]
  },
  {
   "cell_type": "code",
   "execution_count": 5,
   "id": "aac47e07",
   "metadata": {},
   "outputs": [],
   "source": [
    "yield_curve = ql.FlatForward(eval_date,\n",
    "                             risk_free_rate,\n",
    "                             day_count,\n",
    "                             ql.Compounded,\n",
    "                             ql.Continuous)\n",
    "\n",
    "discount = yield_curve.discount(maturity_date)\n",
    "payoff = ql.PlainVanillaPayoff(option_type, strike_price)\n",
    "T = yield_curve.dayCounter().yearFraction(eval_date, maturity_date)\n",
    "stdev = volatility * (T**0.5)"
   ]
  },
  {
   "cell_type": "code",
   "execution_count": 6,
   "id": "51a95baa",
   "metadata": {},
   "outputs": [],
   "source": [
    "black = ql.BlackCalculator(payoff, \n",
    "                           spot_price,\n",
    "                           stdev,\n",
    "                           discount)"
   ]
  },
  {
   "cell_type": "code",
   "execution_count": 7,
   "id": "344bcd9f",
   "metadata": {},
   "outputs": [
    {
     "name": "stdout",
     "output_type": "stream",
     "text": [
      "Option price   : 7.9656\n",
      "Delta          : 0.9874\n",
      "Gamma          : 0.0088\n",
      "Theta          : -0.9373\n",
      "Vega           : 1.0303\n"
     ]
    }
   ],
   "source": [
    "print(f\"{'Option price':15s}: {black.value():5.4f}\")\n",
    "print(f\"{'Delta':15s}: {black.delta(spot_price):5.4f}\")\n",
    "print(f\"{'Gamma':15s}: {black.gamma(spot_price):5.4f}\")\n",
    "print(f\"{'Theta':15s}: {black.theta(spot_price, T):5.4f}\")\n",
    "print(f\"{'Vega':15s}: {black.vega(T):5.4f}\")"
   ]
  }
 ],
 "metadata": {
  "kernelspec": {
   "display_name": "Python 3.8.8 64-bit ('DL': conda)",
   "language": "python",
   "name": "python388jvsc74a57bd05f58e7dbcddfdb99f90b0447783d5390db8cd74aa541842f8b458cd6f0565a39"
  },
  "language_info": {
   "codemirror_mode": {
    "name": "ipython",
    "version": 3
   },
   "file_extension": ".py",
   "mimetype": "text/x-python",
   "name": "python",
   "nbconvert_exporter": "python",
   "pygments_lexer": "ipython3",
   "version": "3.8.8"
  }
 },
 "nbformat": 4,
 "nbformat_minor": 5
}
