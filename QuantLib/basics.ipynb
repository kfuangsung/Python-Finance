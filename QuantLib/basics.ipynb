{
 "cells": [
  {
   "cell_type": "code",
   "execution_count": 1,
   "id": "0e28ec3f",
   "metadata": {},
   "outputs": [],
   "source": [
    "import QuantLib as ql "
   ]
  },
  {
   "cell_type": "markdown",
   "id": "860a38a6",
   "metadata": {},
   "source": [
    "## Date"
   ]
  },
  {
   "cell_type": "code",
   "execution_count": 2,
   "id": "ae374094",
   "metadata": {},
   "outputs": [
    {
     "name": "stdout",
     "output_type": "stream",
     "text": [
      "March 31st, 2022\n"
     ]
    }
   ],
   "source": [
    "# Date(day, month, year)\n",
    "\n",
    "date = ql.Date(31, 3, 2022)\n",
    "print(date)"
   ]
  },
  {
   "cell_type": "code",
   "execution_count": 3,
   "id": "75dd7bd3",
   "metadata": {},
   "outputs": [
    {
     "name": "stdout",
     "output_type": "stream",
     "text": [
      "3-31-2022\n"
     ]
    }
   ],
   "source": [
    "print(f\"{date.month()}-{date.dayOfMonth()}-{date.year()}\")"
   ]
  },
  {
   "cell_type": "code",
   "execution_count": 4,
   "id": "7c5918ab",
   "metadata": {},
   "outputs": [
    {
     "data": {
      "text/plain": [
       "5"
      ]
     },
     "execution_count": 4,
     "metadata": {},
     "output_type": "execute_result"
    }
   ],
   "source": [
    "date.weekday()"
   ]
  },
  {
   "cell_type": "code",
   "execution_count": 5,
   "id": "9994ebc2",
   "metadata": {},
   "outputs": [
    {
     "data": {
      "text/plain": [
       "3"
      ]
     },
     "execution_count": 5,
     "metadata": {},
     "output_type": "execute_result"
    }
   ],
   "source": [
    "ql.Tuesday"
   ]
  },
  {
   "cell_type": "code",
   "execution_count": 6,
   "id": "c6f0f7c5",
   "metadata": {},
   "outputs": [
    {
     "data": {
      "text/plain": [
       "False"
      ]
     },
     "execution_count": 6,
     "metadata": {},
     "output_type": "execute_result"
    }
   ],
   "source": [
    "date.weekday() == ql.Tuesday"
   ]
  },
  {
   "cell_type": "code",
   "execution_count": 7,
   "id": "1043c236",
   "metadata": {},
   "outputs": [
    {
     "name": "stdout",
     "output_type": "stream",
     "text": [
      "Date:           March 31st, 2022\n",
      "Add a day:      April 1st, 2022\n",
      "Subtract a day: March 30th, 2022\n",
      "Add a week:     April 7th, 2022\n",
      "Add a month:    April 30th, 2022\n",
      "Add a year      March 31st, 2023\n"
     ]
    }
   ],
   "source": [
    "print(f'Date:           {date}')\n",
    "print(f\"Add a day:      {date + 1}\")\n",
    "print(f\"Subtract a day: {date - 1}\")\n",
    "print(f\"Add a week:     {date + ql.Period(1, ql.Weeks)}\")\n",
    "print(f\"Add a month:    {date + ql.Period(1, ql.Months)}\")\n",
    "print(f\"Add a year      {date + ql.Period(1, ql.Years)}\")"
   ]
  },
  {
   "cell_type": "code",
   "execution_count": 8,
   "id": "8b9241cb",
   "metadata": {},
   "outputs": [
    {
     "data": {
      "text/plain": [
       "True"
      ]
     },
     "execution_count": 8,
     "metadata": {},
     "output_type": "execute_result"
    }
   ],
   "source": [
    "date > ql.Date(1, 5, 2020)"
   ]
  },
  {
   "cell_type": "markdown",
   "id": "fd652e5e",
   "metadata": {},
   "source": [
    "## Calendar"
   ]
  },
  {
   "cell_type": "code",
   "execution_count": 9,
   "id": "2db9250c",
   "metadata": {},
   "outputs": [],
   "source": [
    "date = ql.Date(12, ql.January, 2021)\n",
    "us_calendar = ql.UnitedStates()\n",
    "th_calendar = ql.Thailand()"
   ]
  },
  {
   "cell_type": "code",
   "execution_count": 10,
   "id": "658fbb03",
   "metadata": {},
   "outputs": [],
   "source": [
    "period = ql.Period(60, ql.Days)\n",
    "raw_date = date + period\n",
    "us_date = us_calendar.advance(date, period)\n",
    "th_date = th_calendar.advance(date, period)"
   ]
  },
  {
   "cell_type": "code",
   "execution_count": 11,
   "id": "d75c8530",
   "metadata": {},
   "outputs": [
    {
     "name": "stdout",
     "output_type": "stream",
     "text": [
      "Date:                             January 12th, 2021\n",
      "Add 60 days:                      March 13th, 2021\n",
      "Add 60 business days in US:       April 8th, 2021\n",
      "Add 60 business days in Thailand: April 7th, 2021\n"
     ]
    }
   ],
   "source": [
    "print(f\"Date:                             {date}\")\n",
    "print(f\"Add 60 days:                      {raw_date}\")\n",
    "print(f\"Add 60 business days in US:       {us_date}\")\n",
    "print(f\"Add 60 business days in Thailand: {th_date}\")"
   ]
  },
  {
   "cell_type": "code",
   "execution_count": 12,
   "id": "f8e1c2cf",
   "metadata": {},
   "outputs": [
    {
     "name": "stdout",
     "output_type": "stream",
     "text": [
      "Business days in US:       60\n",
      "Business days in Thailand: 60\n"
     ]
    }
   ],
   "source": [
    "us_busdays = us_calendar.businessDaysBetween(date, us_date)\n",
    "th_busdays = th_calendar.businessDaysBetween(date, th_date)\n",
    "\n",
    "print(f\"Business days in US:       {us_busdays}\")\n",
    "print(f\"Business days in Thailand: {th_busdays}\")"
   ]
  },
  {
   "cell_type": "code",
   "execution_count": 13,
   "id": "876b41a5",
   "metadata": {},
   "outputs": [
    {
     "name": "stdout",
     "output_type": "stream",
     "text": [
      "Add 60 business days in US-Thailand: April 9th, 2021\n",
      "Business days in US-Thailand:        60\n"
     ]
    }
   ],
   "source": [
    "# combine two calendars holidays\n",
    "\n",
    "joint_calendar = ql.JointCalendar(us_calendar, th_calendar)\n",
    "joint_date = joint_calendar.advance(date, period)\n",
    "joint_busdays = joint_calendar.businessDaysBetween(date, joint_date)\n",
    "\n",
    "print(f\"Add 60 business days in US-Thailand: {joint_date}\")\n",
    "print(f\"Business days in US-Thailand:        {joint_busdays}\")"
   ]
  },
  {
   "cell_type": "markdown",
   "id": "09b54353",
   "metadata": {},
   "source": [
    "## Schedule"
   ]
  },
  {
   "cell_type": "code",
   "execution_count": 14,
   "id": "45ad61f8",
   "metadata": {},
   "outputs": [],
   "source": [
    "effective_date = ql.Date(1, 1, 2022)\n",
    "termination_date = ql.Date(1, 1, 2023)\n",
    "tenor = ql.Period(ql.Monthly)\n",
    "calendar = ql.UnitedStates()\n",
    "business_convention = ql.Following\n",
    "termination_business_convention = ql.Following\n",
    "date_generation = ql.DateGeneration.Forward\n",
    "end_of_month = False\n",
    "\n",
    "schedule = ql.Schedule(effective_date,\n",
    "                       termination_date,\n",
    "                       tenor,\n",
    "                       calendar,\n",
    "                       business_convention,\n",
    "                       termination_business_convention,\n",
    "                       date_generation,\n",
    "                       end_of_month)"
   ]
  },
  {
   "cell_type": "code",
   "execution_count": 15,
   "id": "ecfae33f",
   "metadata": {},
   "outputs": [
    {
     "name": "stdout",
     "output_type": "stream",
     "text": [
      "0 January 3rd, 2022\n",
      "1 February 1st, 2022\n",
      "2 March 1st, 2022\n",
      "3 April 1st, 2022\n",
      "4 May 2nd, 2022\n",
      "5 June 1st, 2022\n",
      "6 July 1st, 2022\n",
      "7 August 1st, 2022\n",
      "8 September 1st, 2022\n",
      "9 October 3rd, 2022\n",
      "10 November 1st, 2022\n",
      "11 December 1st, 2022\n",
      "12 January 3rd, 2023\n"
     ]
    }
   ],
   "source": [
    "for i, d in enumerate(list(schedule)):\n",
    "    print(i, d)"
   ]
  },
  {
   "cell_type": "code",
   "execution_count": 16,
   "id": "a4a67c9d",
   "metadata": {},
   "outputs": [],
   "source": [
    "first_date = ql.Date(15, 1, 2022)\n",
    "\n",
    "schedule = ql.Schedule(effective_date,\n",
    "                       termination_date,\n",
    "                       tenor,\n",
    "                       calendar,\n",
    "                       business_convention,\n",
    "                       termination_business_convention,\n",
    "                       ql.DateGeneration.Backward,\n",
    "                       end_of_month,\n",
    "                       first_date)"
   ]
  },
  {
   "cell_type": "code",
   "execution_count": 17,
   "id": "52300758",
   "metadata": {},
   "outputs": [
    {
     "name": "stdout",
     "output_type": "stream",
     "text": [
      "0 January 3rd, 2022\n",
      "1 January 18th, 2022\n",
      "2 February 1st, 2022\n",
      "3 March 1st, 2022\n",
      "4 April 1st, 2022\n",
      "5 May 2nd, 2022\n",
      "6 June 1st, 2022\n",
      "7 July 1st, 2022\n",
      "8 August 1st, 2022\n",
      "9 September 1st, 2022\n",
      "10 October 3rd, 2022\n",
      "11 November 1st, 2022\n",
      "12 December 1st, 2022\n",
      "13 January 3rd, 2023\n"
     ]
    }
   ],
   "source": [
    "for i, d in enumerate(list(schedule)):\n",
    "    print(i, d)"
   ]
  },
  {
   "cell_type": "code",
   "execution_count": 18,
   "id": "9f5a3574",
   "metadata": {},
   "outputs": [],
   "source": [
    "penultimate_date = ql.Date(15, 12, 2022)\n",
    "\n",
    "schedule = ql.Schedule(effective_date,\n",
    "                       termination_date,\n",
    "                       tenor,\n",
    "                       calendar,\n",
    "                       business_convention,\n",
    "                       termination_business_convention,\n",
    "                       ql.DateGeneration.Forward,\n",
    "                       end_of_month,\n",
    "                       ql.Date(),\n",
    "                       penultimate_date)"
   ]
  },
  {
   "cell_type": "code",
   "execution_count": 19,
   "id": "e342fa0e",
   "metadata": {},
   "outputs": [
    {
     "name": "stdout",
     "output_type": "stream",
     "text": [
      "0 January 3rd, 2022\n",
      "1 February 1st, 2022\n",
      "2 March 1st, 2022\n",
      "3 April 1st, 2022\n",
      "4 May 2nd, 2022\n",
      "5 June 1st, 2022\n",
      "6 July 1st, 2022\n",
      "7 August 1st, 2022\n",
      "8 September 1st, 2022\n",
      "9 October 3rd, 2022\n",
      "10 November 1st, 2022\n",
      "11 December 1st, 2022\n",
      "12 December 15th, 2022\n",
      "13 January 3rd, 2023\n"
     ]
    }
   ],
   "source": [
    "for i, d in enumerate(list(schedule)):\n",
    "    print(i, d)"
   ]
  },
  {
   "cell_type": "markdown",
   "id": "18e29469",
   "metadata": {},
   "source": [
    "## Interest Rate"
   ]
  },
  {
   "cell_type": "code",
   "execution_count": 20,
   "id": "654d358f",
   "metadata": {},
   "outputs": [
    {
     "name": "stdout",
     "output_type": "stream",
     "text": [
      "5.000000 % Actual/Actual (ISDA) Annual compounding\n"
     ]
    }
   ],
   "source": [
    "annual_rate = 0.05\n",
    "day_count = ql.ActualActual()\n",
    "compound_type = ql.Compounded\n",
    "frequency = ql.Annual\n",
    "\n",
    "interest_rate = ql.InterestRate(annual_rate,\n",
    "                                day_count,\n",
    "                                compound_type,\n",
    "                                frequency)\n",
    "\n",
    "print(interest_rate)"
   ]
  },
  {
   "cell_type": "code",
   "execution_count": 21,
   "id": "7f1547e5",
   "metadata": {},
   "outputs": [
    {
     "data": {
      "text/plain": [
       "1.1025"
      ]
     },
     "execution_count": 21,
     "metadata": {},
     "output_type": "execute_result"
    }
   ],
   "source": [
    "interest_rate.compoundFactor(2)"
   ]
  },
  {
   "cell_type": "code",
   "execution_count": 22,
   "id": "f3b526f9",
   "metadata": {},
   "outputs": [
    {
     "data": {
      "text/plain": [
       "0.9070294784580498"
      ]
     },
     "execution_count": 22,
     "metadata": {},
     "output_type": "execute_result"
    }
   ],
   "source": [
    "interest_rate.discountFactor(2)"
   ]
  },
  {
   "cell_type": "code",
   "execution_count": 23,
   "id": "aa788113",
   "metadata": {},
   "outputs": [
    {
     "name": "stdout",
     "output_type": "stream",
     "text": [
      "4.939015 % Actual/Actual (ISDA) Semiannual compounding\n"
     ]
    }
   ],
   "source": [
    "# convert to new frequency\n",
    "\n",
    "new_freq = ql.Semiannual\n",
    "new_interest_rate = interest_rate.equivalentRate(compound_type, new_freq, 1)\n",
    "print(new_interest_rate)"
   ]
  }
 ],
 "metadata": {
  "kernelspec": {
   "display_name": "Python 3.8.8 64-bit ('DL': conda)",
   "language": "python",
   "name": "python388jvsc74a57bd05f58e7dbcddfdb99f90b0447783d5390db8cd74aa541842f8b458cd6f0565a39"
  },
  "language_info": {
   "codemirror_mode": {
    "name": "ipython",
    "version": 3
   },
   "file_extension": ".py",
   "mimetype": "text/x-python",
   "name": "python",
   "nbconvert_exporter": "python",
   "pygments_lexer": "ipython3",
   "version": "3.8.8"
  }
 },
 "nbformat": 4,
 "nbformat_minor": 5
}
